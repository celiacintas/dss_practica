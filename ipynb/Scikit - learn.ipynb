{
 "metadata": {
  "name": ""
 },
 "nbformat": 3,
 "nbformat_minor": 0,
 "worksheets": [
  {
   "cells": [
    {
     "cell_type": "code",
     "collapsed": false,
     "input": [
      "from IPython.display import Image\n",
      "Image(url='http://1.bp.blogspot.com/-ME24ePzpzIM/UQLWTwurfXI/AAAAAAAAANw/W3EETIroA80/s1600/drop_shadows_background.png')"
     ],
     "language": "python",
     "metadata": {},
     "outputs": [
      {
       "html": [
        "<img src=\"http://1.bp.blogspot.com/-ME24ePzpzIM/UQLWTwurfXI/AAAAAAAAANw/W3EETIroA80/s1600/drop_shadows_background.png\"/>"
       ],
       "metadata": {},
       "output_type": "pyout",
       "prompt_number": 2,
       "text": [
        "<IPython.core.display.Image at 0x265cb10>"
       ]
      }
     ],
     "prompt_number": 2
    },
    {
     "cell_type": "heading",
     "level": 3,
     "metadata": {},
     "source": [
      "Clasificaci\u00f3n"
     ]
    },
    {
     "cell_type": "code",
     "collapsed": false,
     "input": [
      "import numpy\n",
      "from sklearn import datasets, svm\n",
      "import matplotlib.pyplot as plt"
     ],
     "language": "python",
     "metadata": {},
     "outputs": [],
     "prompt_number": 71
    },
    {
     "cell_type": "code",
     "collapsed": false,
     "input": [
      "boston.data.shape"
     ],
     "language": "python",
     "metadata": {},
     "outputs": [
      {
       "metadata": {},
       "output_type": "pyout",
       "prompt_number": 13,
       "text": [
        "(506, 13)"
       ]
      }
     ],
     "prompt_number": 13
    },
    {
     "cell_type": "markdown",
     "metadata": {},
     "source": [
      "Creamos nuestro dataset y sus respectivas etiquetas para el entrenamiento"
     ]
    },
    {
     "cell_type": "code",
     "collapsed": false,
     "input": [
      "xs = np.array([[np.random.randint(i-10, i), np.random.randint(i-10, i)] for i in [10, 20] for _ in range(10)])\n",
      "x = [[0,0], [1, 1], [2,2]]\n",
      "y = [i for i in ['a', 'b'] for _ in range(10)]\n",
      "print xs\n",
      "print y"
     ],
     "language": "python",
     "metadata": {},
     "outputs": [
      {
       "output_type": "stream",
       "stream": "stdout",
       "text": [
        "[[ 4  3]\n",
        " [ 6  5]\n",
        " [ 3  7]\n",
        " [ 8  8]\n",
        " [ 3  7]\n",
        " [ 8  5]\n",
        " [ 7  2]\n",
        " [ 7  8]\n",
        " [ 0  7]\n",
        " [ 4  8]\n",
        " [14 14]\n",
        " [10 14]\n",
        " [18 10]\n",
        " [10 14]\n",
        " [17 13]\n",
        " [17 17]\n",
        " [12 12]\n",
        " [11 17]\n",
        " [10 17]\n",
        " [15 19]]\n",
        "['a', 'a', 'a', 'a', 'a', 'a', 'a', 'a', 'a', 'a', 'b', 'b', 'b', 'b', 'b', 'b', 'b', 'b', 'b', 'b']\n"
       ]
      }
     ],
     "prompt_number": 177
    },
    {
     "cell_type": "markdown",
     "metadata": {},
     "source": [
      "Entrenamos ..."
     ]
    },
    {
     "cell_type": "code",
     "collapsed": false,
     "input": [
      "sv = svm.SVC()"
     ],
     "language": "python",
     "metadata": {},
     "outputs": [],
     "prompt_number": 178
    },
    {
     "cell_type": "code",
     "collapsed": false,
     "input": [
      "sv.fit(xs, y)"
     ],
     "language": "python",
     "metadata": {},
     "outputs": [
      {
       "metadata": {},
       "output_type": "pyout",
       "prompt_number": 179,
       "text": [
        "SVC(C=1.0, cache_size=200, class_weight=None, coef0=0.0, degree=3, gamma=0.0,\n",
        "  kernel='rbf', max_iter=-1, probability=False, shrinking=True, tol=0.001,\n",
        "  verbose=False)"
       ]
      }
     ],
     "prompt_number": 179
    },
    {
     "cell_type": "markdown",
     "metadata": {},
     "source": [
      "Y consultamos la ubicaci\u00f3n de un nuevo individuo .."
     ]
    },
    {
     "cell_type": "code",
     "collapsed": false,
     "input": [
      "sv.predict([16,16])"
     ],
     "language": "python",
     "metadata": {},
     "outputs": [
      {
       "metadata": {},
       "output_type": "pyout",
       "prompt_number": 180,
       "text": [
        "array(['b'], \n",
        "      dtype='|S1')"
       ]
      }
     ],
     "prompt_number": 180
    },
    {
     "cell_type": "markdown",
     "metadata": {},
     "source": [
      "Si es un kernel lineal .. buscamos el hiperplano"
     ]
    },
    {
     "cell_type": "code",
     "collapsed": false,
     "input": [
      "w = sv.coef_[0]\n",
      "a = -w[0] / w[1]\n",
      "xx = np.linspace(0, 10)\n",
      "yy = a * xx - (sv.intercept_[0]) / w[1]"
     ],
     "language": "python",
     "metadata": {},
     "outputs": []
    },
    {
     "cell_type": "markdown",
     "metadata": {},
     "source": [
      "Si no es lineal, buscamos la funci\u00f3n de decisi\u00f3n .."
     ]
    },
    {
     "cell_type": "code",
     "collapsed": false,
     "input": [
      "x_min = xs[:, 0].min()\n",
      "x_max = xs[:, 0].max()\n",
      "y_min = xs[:, 1].min()\n",
      "y_max = xs[:, 1].max()\n",
      "\n",
      "XX, YY = np.mgrid[x_min:x_max:200j, y_min:y_max:200j]\n",
      "Z = sv.decision_function(np.c_[XX.ravel(), YY.ravel()])\n",
      "Z = Z.reshape(XX.shape)"
     ],
     "language": "python",
     "metadata": {},
     "outputs": [],
     "prompt_number": 181
    },
    {
     "cell_type": "code",
     "collapsed": false,
     "input": [
      "plt.plot(xs[:10], 'ro')\n",
      "plt.plot(xs[10:], 'go')\n",
      "#plt.plot(xx, yy, 'k-')\n",
      "#plt.contour(XX, YY, Z, colors=['k', 'k', 'k'], linestyles=['--', '-', '--'], levels=[-.5, 0, .5])\n",
      "plt.pcolormesh(XX, YY, Z > 0,  cmap=pl.cm.Paired)"
     ],
     "language": "python",
     "metadata": {},
     "outputs": [
      {
       "metadata": {},
       "output_type": "pyout",
       "prompt_number": 185,
       "text": [
        "<matplotlib.collections.QuadMesh at 0x69c2ed0>"
       ]
      },
      {
       "metadata": {},
       "output_type": "display_data",
       "png": "[encoded data removed]",
       "text": [
        "<matplotlib.figure.Figure at 0x69ab490>"
       ]
      }
     ],
     "prompt_number": 185
    }
   ],
   "metadata": {}
  }
 ]
}