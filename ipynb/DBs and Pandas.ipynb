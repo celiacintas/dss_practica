{
 "cells": [
  {
   "cell_type": "code",
   "execution_count": 2,
   "metadata": {
    "collapsed": true
   },
   "outputs": [],
   "source": [
    "from sqlalchemy import create_engine\n",
    "import pandas as pd"
   ]
  },
  {
   "cell_type": "markdown",
   "metadata": {},
   "source": [
    "#### Crear el \"engine\" pasando la dirección de la db"
   ]
  },
  {
   "cell_type": "code",
   "execution_count": 9,
   "metadata": {
    "collapsed": false
   },
   "outputs": [
    {
     "data": {
      "text/plain": [
       "Engine(postgresql://celia@localhost:5432/mytestdb)"
      ]
     },
     "execution_count": 9,
     "metadata": {},
     "output_type": "execute_result"
    }
   ],
   "source": [
    "engine = create_engine('postgresql://celia@localhost:5432/mytestdb')\n",
    "engine"
   ]
  },
  {
   "cell_type": "code",
   "execution_count": 20,
   "metadata": {
    "collapsed": false
   },
   "outputs": [],
   "source": [
    "df_customer.to_json('/tmp/test.json')"
   ]
  },
  {
   "cell_type": "code",
   "execution_count": 6,
   "metadata": {
    "collapsed": false
   },
   "outputs": [
    {
     "data": {
      "text/html": [
       "<div>\n",
       "<table border=\"1\" class=\"dataframe\">\n",
       "  <thead>\n",
       "    <tr style=\"text-align: right;\">\n",
       "      <th></th>\n",
       "      <th>bday</th>\n",
       "      <th>email</th>\n",
       "      <th>first_name</th>\n",
       "      <th>gender</th>\n",
       "      <th>id</th>\n",
       "      <th>last_name</th>\n",
       "    </tr>\n",
       "  </thead>\n",
       "  <tbody>\n",
       "    <tr>\n",
       "      <th>0</th>\n",
       "      <td>7/13/2016</td>\n",
       "      <td>gdiaz0@gizmodo.com</td>\n",
       "      <td>Gloria</td>\n",
       "      <td>Female</td>\n",
       "      <td>1</td>\n",
       "      <td>Diaz</td>\n",
       "    </tr>\n",
       "    <tr>\n",
       "      <th>1</th>\n",
       "      <td>10/27/1993</td>\n",
       "      <td>pgarrett1@diigo.com</td>\n",
       "      <td>Peter</td>\n",
       "      <td>Male</td>\n",
       "      <td>2</td>\n",
       "      <td>Garrett</td>\n",
       "    </tr>\n",
       "    <tr>\n",
       "      <th>2</th>\n",
       "      <td>5/17/2004</td>\n",
       "      <td>bbradley2@themeforest.net</td>\n",
       "      <td>Betty</td>\n",
       "      <td>Female</td>\n",
       "      <td>3</td>\n",
       "      <td>Bradley</td>\n",
       "    </tr>\n",
       "    <tr>\n",
       "      <th>3</th>\n",
       "      <td>7/6/2013</td>\n",
       "      <td>rmorales3@shinystat.com</td>\n",
       "      <td>Russell</td>\n",
       "      <td>Male</td>\n",
       "      <td>4</td>\n",
       "      <td>Morales</td>\n",
       "    </tr>\n",
       "    <tr>\n",
       "      <th>4</th>\n",
       "      <td>11/9/1995</td>\n",
       "      <td>rsims4@sina.com.cn</td>\n",
       "      <td>Randy</td>\n",
       "      <td>Male</td>\n",
       "      <td>5</td>\n",
       "      <td>Sims</td>\n",
       "    </tr>\n",
       "    <tr>\n",
       "      <th>5</th>\n",
       "      <td>10/25/2004</td>\n",
       "      <td>jcruz5@wikia.com</td>\n",
       "      <td>Jerry</td>\n",
       "      <td>Male</td>\n",
       "      <td>6</td>\n",
       "      <td>Cruz</td>\n",
       "    </tr>\n",
       "    <tr>\n",
       "      <th>6</th>\n",
       "      <td>3/23/2009</td>\n",
       "      <td>mmedina6@seattletimes.com</td>\n",
       "      <td>Michelle</td>\n",
       "      <td>Female</td>\n",
       "      <td>7</td>\n",
       "      <td>Medina</td>\n",
       "    </tr>\n",
       "    <tr>\n",
       "      <th>7</th>\n",
       "      <td>4/5/2002</td>\n",
       "      <td>gellis7@hhs.gov</td>\n",
       "      <td>Gregory</td>\n",
       "      <td>Male</td>\n",
       "      <td>8</td>\n",
       "      <td>Ellis</td>\n",
       "    </tr>\n",
       "    <tr>\n",
       "      <th>8</th>\n",
       "      <td>5/29/2014</td>\n",
       "      <td>blawson8@blog.com</td>\n",
       "      <td>Brenda</td>\n",
       "      <td>Female</td>\n",
       "      <td>9</td>\n",
       "      <td>Lawson</td>\n",
       "    </tr>\n",
       "    <tr>\n",
       "      <th>9</th>\n",
       "      <td>10/30/2006</td>\n",
       "      <td>lkelly9@pcworld.com</td>\n",
       "      <td>Lawrence</td>\n",
       "      <td>Male</td>\n",
       "      <td>10</td>\n",
       "      <td>Kelly</td>\n",
       "    </tr>\n",
       "    <tr>\n",
       "      <th>10</th>\n",
       "      <td>1/30/2010</td>\n",
       "      <td>jalvareza@fc2.com</td>\n",
       "      <td>Jason</td>\n",
       "      <td>Male</td>\n",
       "      <td>11</td>\n",
       "      <td>Alvarez</td>\n",
       "    </tr>\n",
       "    <tr>\n",
       "      <th>11</th>\n",
       "      <td>7/16/2003</td>\n",
       "      <td>hmarshallb@nps.gov</td>\n",
       "      <td>Harold</td>\n",
       "      <td>Male</td>\n",
       "      <td>12</td>\n",
       "      <td>Marshall</td>\n",
       "    </tr>\n",
       "    <tr>\n",
       "      <th>12</th>\n",
       "      <td>10/31/1990</td>\n",
       "      <td>scampbellc@theguardian.com</td>\n",
       "      <td>Steven</td>\n",
       "      <td>Male</td>\n",
       "      <td>13</td>\n",
       "      <td>Campbell</td>\n",
       "    </tr>\n",
       "    <tr>\n",
       "      <th>13</th>\n",
       "      <td>5/16/2013</td>\n",
       "      <td>llongd@ask.com</td>\n",
       "      <td>Lois</td>\n",
       "      <td>Female</td>\n",
       "      <td>14</td>\n",
       "      <td>Long</td>\n",
       "    </tr>\n",
       "    <tr>\n",
       "      <th>14</th>\n",
       "      <td>12/8/1997</td>\n",
       "      <td>dhowelle@mit.edu</td>\n",
       "      <td>David</td>\n",
       "      <td>Male</td>\n",
       "      <td>15</td>\n",
       "      <td>Howell</td>\n",
       "    </tr>\n",
       "    <tr>\n",
       "      <th>15</th>\n",
       "      <td>7/11/2013</td>\n",
       "      <td>jwhitef@netlog.com</td>\n",
       "      <td>Julie</td>\n",
       "      <td>Female</td>\n",
       "      <td>16</td>\n",
       "      <td>White</td>\n",
       "    </tr>\n",
       "    <tr>\n",
       "      <th>16</th>\n",
       "      <td>8/30/2010</td>\n",
       "      <td>eknightg@auda.org.au</td>\n",
       "      <td>Eric</td>\n",
       "      <td>Male</td>\n",
       "      <td>17</td>\n",
       "      <td>Knight</td>\n",
       "    </tr>\n",
       "    <tr>\n",
       "      <th>17</th>\n",
       "      <td>11/12/2004</td>\n",
       "      <td>woliverh@imageshack.us</td>\n",
       "      <td>Wayne</td>\n",
       "      <td>Male</td>\n",
       "      <td>18</td>\n",
       "      <td>Oliver</td>\n",
       "    </tr>\n",
       "    <tr>\n",
       "      <th>18</th>\n",
       "      <td>9/16/2006</td>\n",
       "      <td>cperryi@wikia.com</td>\n",
       "      <td>Cheryl</td>\n",
       "      <td>Female</td>\n",
       "      <td>19</td>\n",
       "      <td>Perry</td>\n",
       "    </tr>\n",
       "    <tr>\n",
       "      <th>19</th>\n",
       "      <td>5/21/1991</td>\n",
       "      <td>ssanchezj@jugem.jp</td>\n",
       "      <td>Sean</td>\n",
       "      <td>Male</td>\n",
       "      <td>20</td>\n",
       "      <td>Sanchez</td>\n",
       "    </tr>\n",
       "    <tr>\n",
       "      <th>20</th>\n",
       "      <td>10/2/2008</td>\n",
       "      <td>dwellsk@nytimes.com</td>\n",
       "      <td>Donald</td>\n",
       "      <td>Male</td>\n",
       "      <td>21</td>\n",
       "      <td>Wells</td>\n",
       "    </tr>\n",
       "    <tr>\n",
       "      <th>21</th>\n",
       "      <td>3/21/2013</td>\n",
       "      <td>jhudsonl@github.com</td>\n",
       "      <td>Justin</td>\n",
       "      <td>Male</td>\n",
       "      <td>22</td>\n",
       "      <td>Hudson</td>\n",
       "    </tr>\n",
       "    <tr>\n",
       "      <th>22</th>\n",
       "      <td>11/18/2007</td>\n",
       "      <td>krobinsonm@feedburner.com</td>\n",
       "      <td>Keith</td>\n",
       "      <td>Male</td>\n",
       "      <td>23</td>\n",
       "      <td>Robinson</td>\n",
       "    </tr>\n",
       "    <tr>\n",
       "      <th>23</th>\n",
       "      <td>5/28/1994</td>\n",
       "      <td>gwilliamsonn@liveinternet.ru</td>\n",
       "      <td>Gloria</td>\n",
       "      <td>Female</td>\n",
       "      <td>24</td>\n",
       "      <td>Williamson</td>\n",
       "    </tr>\n",
       "    <tr>\n",
       "      <th>24</th>\n",
       "      <td>7/26/1995</td>\n",
       "      <td>jpierceo@forbes.com</td>\n",
       "      <td>Jimmy</td>\n",
       "      <td>Male</td>\n",
       "      <td>25</td>\n",
       "      <td>Pierce</td>\n",
       "    </tr>\n",
       "    <tr>\n",
       "      <th>25</th>\n",
       "      <td>9/5/2010</td>\n",
       "      <td>drosep@omniture.com</td>\n",
       "      <td>Daniel</td>\n",
       "      <td>Male</td>\n",
       "      <td>26</td>\n",
       "      <td>Rose</td>\n",
       "    </tr>\n",
       "    <tr>\n",
       "      <th>26</th>\n",
       "      <td>1/17/1993</td>\n",
       "      <td>ajenkinsq@hc360.com</td>\n",
       "      <td>Adam</td>\n",
       "      <td>Male</td>\n",
       "      <td>27</td>\n",
       "      <td>Jenkins</td>\n",
       "    </tr>\n",
       "    <tr>\n",
       "      <th>27</th>\n",
       "      <td>9/4/1994</td>\n",
       "      <td>jgardnerr@theguardian.com</td>\n",
       "      <td>Jacqueline</td>\n",
       "      <td>Female</td>\n",
       "      <td>28</td>\n",
       "      <td>Gardner</td>\n",
       "    </tr>\n",
       "    <tr>\n",
       "      <th>28</th>\n",
       "      <td>8/24/1990</td>\n",
       "      <td>amorenos@nhs.uk</td>\n",
       "      <td>Arthur</td>\n",
       "      <td>Male</td>\n",
       "      <td>29</td>\n",
       "      <td>Moreno</td>\n",
       "    </tr>\n",
       "    <tr>\n",
       "      <th>29</th>\n",
       "      <td>6/24/2009</td>\n",
       "      <td>flewist@facebook.com</td>\n",
       "      <td>Frank</td>\n",
       "      <td>Male</td>\n",
       "      <td>30</td>\n",
       "      <td>Lewis</td>\n",
       "    </tr>\n",
       "    <tr>\n",
       "      <th>...</th>\n",
       "      <td>...</td>\n",
       "      <td>...</td>\n",
       "      <td>...</td>\n",
       "      <td>...</td>\n",
       "      <td>...</td>\n",
       "      <td>...</td>\n",
       "    </tr>\n",
       "    <tr>\n",
       "      <th>970</th>\n",
       "      <td>9/10/2013</td>\n",
       "      <td>acrawfordqy@acquirethisname.com</td>\n",
       "      <td>Amanda</td>\n",
       "      <td>Female</td>\n",
       "      <td>971</td>\n",
       "      <td>Crawford</td>\n",
       "    </tr>\n",
       "    <tr>\n",
       "      <th>971</th>\n",
       "      <td>3/17/2002</td>\n",
       "      <td>rwilliamsqz@zdnet.com</td>\n",
       "      <td>Ruth</td>\n",
       "      <td>Female</td>\n",
       "      <td>972</td>\n",
       "      <td>Williams</td>\n",
       "    </tr>\n",
       "    <tr>\n",
       "      <th>972</th>\n",
       "      <td>4/15/2001</td>\n",
       "      <td>cwilliamsr0@devhub.com</td>\n",
       "      <td>Christine</td>\n",
       "      <td>Female</td>\n",
       "      <td>973</td>\n",
       "      <td>Williams</td>\n",
       "    </tr>\n",
       "    <tr>\n",
       "      <th>973</th>\n",
       "      <td>3/29/2014</td>\n",
       "      <td>jelliottr1@businessinsider.com</td>\n",
       "      <td>Jessica</td>\n",
       "      <td>Female</td>\n",
       "      <td>974</td>\n",
       "      <td>Elliott</td>\n",
       "    </tr>\n",
       "    <tr>\n",
       "      <th>974</th>\n",
       "      <td>1/31/2012</td>\n",
       "      <td>aarnoldr2@lycos.com</td>\n",
       "      <td>Alan</td>\n",
       "      <td>Male</td>\n",
       "      <td>975</td>\n",
       "      <td>Arnold</td>\n",
       "    </tr>\n",
       "    <tr>\n",
       "      <th>975</th>\n",
       "      <td>9/5/2007</td>\n",
       "      <td>fcarterr3@technorati.com</td>\n",
       "      <td>Frances</td>\n",
       "      <td>Female</td>\n",
       "      <td>976</td>\n",
       "      <td>Carter</td>\n",
       "    </tr>\n",
       "    <tr>\n",
       "      <th>976</th>\n",
       "      <td>3/30/2007</td>\n",
       "      <td>jhayesr4@opensource.org</td>\n",
       "      <td>Jerry</td>\n",
       "      <td>Male</td>\n",
       "      <td>977</td>\n",
       "      <td>Hayes</td>\n",
       "    </tr>\n",
       "    <tr>\n",
       "      <th>977</th>\n",
       "      <td>2/9/2014</td>\n",
       "      <td>rpricer5@cpanel.net</td>\n",
       "      <td>Rose</td>\n",
       "      <td>Female</td>\n",
       "      <td>978</td>\n",
       "      <td>Price</td>\n",
       "    </tr>\n",
       "    <tr>\n",
       "      <th>978</th>\n",
       "      <td>2/14/2015</td>\n",
       "      <td>amorrisonr6@nba.com</td>\n",
       "      <td>Amy</td>\n",
       "      <td>Female</td>\n",
       "      <td>979</td>\n",
       "      <td>Morrison</td>\n",
       "    </tr>\n",
       "    <tr>\n",
       "      <th>979</th>\n",
       "      <td>4/24/2011</td>\n",
       "      <td>erogersr7@csmonitor.com</td>\n",
       "      <td>Earl</td>\n",
       "      <td>Male</td>\n",
       "      <td>980</td>\n",
       "      <td>Rogers</td>\n",
       "    </tr>\n",
       "    <tr>\n",
       "      <th>980</th>\n",
       "      <td>2/26/1991</td>\n",
       "      <td>tgarciar8@oracle.com</td>\n",
       "      <td>Tina</td>\n",
       "      <td>Female</td>\n",
       "      <td>981</td>\n",
       "      <td>Garcia</td>\n",
       "    </tr>\n",
       "    <tr>\n",
       "      <th>981</th>\n",
       "      <td>7/11/2004</td>\n",
       "      <td>hweaverr9@newyorker.com</td>\n",
       "      <td>Howard</td>\n",
       "      <td>Male</td>\n",
       "      <td>982</td>\n",
       "      <td>Weaver</td>\n",
       "    </tr>\n",
       "    <tr>\n",
       "      <th>982</th>\n",
       "      <td>10/7/2012</td>\n",
       "      <td>sdavisra@ted.com</td>\n",
       "      <td>Shirley</td>\n",
       "      <td>Female</td>\n",
       "      <td>983</td>\n",
       "      <td>Davis</td>\n",
       "    </tr>\n",
       "    <tr>\n",
       "      <th>983</th>\n",
       "      <td>11/3/1993</td>\n",
       "      <td>lroserb@mayoclinic.com</td>\n",
       "      <td>Lawrence</td>\n",
       "      <td>Male</td>\n",
       "      <td>984</td>\n",
       "      <td>Rose</td>\n",
       "    </tr>\n",
       "    <tr>\n",
       "      <th>984</th>\n",
       "      <td>12/31/2005</td>\n",
       "      <td>mbryantrc@geocities.com</td>\n",
       "      <td>Melissa</td>\n",
       "      <td>Female</td>\n",
       "      <td>985</td>\n",
       "      <td>Bryant</td>\n",
       "    </tr>\n",
       "    <tr>\n",
       "      <th>985</th>\n",
       "      <td>5/23/2009</td>\n",
       "      <td>wgomezrd@nymag.com</td>\n",
       "      <td>Walter</td>\n",
       "      <td>Male</td>\n",
       "      <td>986</td>\n",
       "      <td>Gomez</td>\n",
       "    </tr>\n",
       "    <tr>\n",
       "      <th>986</th>\n",
       "      <td>1/25/2015</td>\n",
       "      <td>kgibsonre@usa.gov</td>\n",
       "      <td>Karen</td>\n",
       "      <td>Female</td>\n",
       "      <td>987</td>\n",
       "      <td>Gibson</td>\n",
       "    </tr>\n",
       "    <tr>\n",
       "      <th>987</th>\n",
       "      <td>2/25/2000</td>\n",
       "      <td>kpricerf@loc.gov</td>\n",
       "      <td>Karen</td>\n",
       "      <td>Female</td>\n",
       "      <td>988</td>\n",
       "      <td>Price</td>\n",
       "    </tr>\n",
       "    <tr>\n",
       "      <th>988</th>\n",
       "      <td>5/26/2013</td>\n",
       "      <td>psullivanrg@cbc.ca</td>\n",
       "      <td>Paula</td>\n",
       "      <td>Female</td>\n",
       "      <td>989</td>\n",
       "      <td>Sullivan</td>\n",
       "    </tr>\n",
       "    <tr>\n",
       "      <th>989</th>\n",
       "      <td>7/9/2012</td>\n",
       "      <td>jmorrisonrh@123-reg.co.uk</td>\n",
       "      <td>Judy</td>\n",
       "      <td>Female</td>\n",
       "      <td>990</td>\n",
       "      <td>Morrison</td>\n",
       "    </tr>\n",
       "    <tr>\n",
       "      <th>990</th>\n",
       "      <td>8/29/2000</td>\n",
       "      <td>jolsonri@nbcnews.com</td>\n",
       "      <td>Jane</td>\n",
       "      <td>Female</td>\n",
       "      <td>991</td>\n",
       "      <td>Olson</td>\n",
       "    </tr>\n",
       "    <tr>\n",
       "      <th>991</th>\n",
       "      <td>2/6/2012</td>\n",
       "      <td>dsimsrj@ox.ac.uk</td>\n",
       "      <td>Doris</td>\n",
       "      <td>Female</td>\n",
       "      <td>992</td>\n",
       "      <td>Sims</td>\n",
       "    </tr>\n",
       "    <tr>\n",
       "      <th>992</th>\n",
       "      <td>3/9/1998</td>\n",
       "      <td>aelliottrk@umich.edu</td>\n",
       "      <td>Amanda</td>\n",
       "      <td>Female</td>\n",
       "      <td>993</td>\n",
       "      <td>Elliott</td>\n",
       "    </tr>\n",
       "    <tr>\n",
       "      <th>993</th>\n",
       "      <td>2/13/1999</td>\n",
       "      <td>bmendozarl@cdc.gov</td>\n",
       "      <td>Brenda</td>\n",
       "      <td>Female</td>\n",
       "      <td>994</td>\n",
       "      <td>Mendoza</td>\n",
       "    </tr>\n",
       "    <tr>\n",
       "      <th>994</th>\n",
       "      <td>8/8/2016</td>\n",
       "      <td>isimsrm@fotki.com</td>\n",
       "      <td>Irene</td>\n",
       "      <td>Female</td>\n",
       "      <td>995</td>\n",
       "      <td>Sims</td>\n",
       "    </tr>\n",
       "    <tr>\n",
       "      <th>995</th>\n",
       "      <td>6/20/2000</td>\n",
       "      <td>jtaylorrn@usgs.gov</td>\n",
       "      <td>Justin</td>\n",
       "      <td>Male</td>\n",
       "      <td>996</td>\n",
       "      <td>Taylor</td>\n",
       "    </tr>\n",
       "    <tr>\n",
       "      <th>996</th>\n",
       "      <td>6/7/2000</td>\n",
       "      <td>phudsonro@sakura.ne.jp</td>\n",
       "      <td>Paula</td>\n",
       "      <td>Female</td>\n",
       "      <td>997</td>\n",
       "      <td>Hudson</td>\n",
       "    </tr>\n",
       "    <tr>\n",
       "      <th>997</th>\n",
       "      <td>11/22/1997</td>\n",
       "      <td>scampbellrp@wix.com</td>\n",
       "      <td>Sandra</td>\n",
       "      <td>Female</td>\n",
       "      <td>998</td>\n",
       "      <td>Campbell</td>\n",
       "    </tr>\n",
       "    <tr>\n",
       "      <th>998</th>\n",
       "      <td>6/22/1996</td>\n",
       "      <td>vpaynerq@fda.gov</td>\n",
       "      <td>Victor</td>\n",
       "      <td>Male</td>\n",
       "      <td>999</td>\n",
       "      <td>Payne</td>\n",
       "    </tr>\n",
       "    <tr>\n",
       "      <th>999</th>\n",
       "      <td>11/9/1995</td>\n",
       "      <td>rwarrenrr@mlb.com</td>\n",
       "      <td>Richard</td>\n",
       "      <td>Male</td>\n",
       "      <td>1000</td>\n",
       "      <td>Warren</td>\n",
       "    </tr>\n",
       "  </tbody>\n",
       "</table>\n",
       "<p>1000 rows × 6 columns</p>\n",
       "</div>"
      ],
      "text/plain": [
       "           bday                            email  first_name  gender    id  \\\n",
       "0     7/13/2016               gdiaz0@gizmodo.com      Gloria  Female     1   \n",
       "1    10/27/1993              pgarrett1@diigo.com       Peter    Male     2   \n",
       "2     5/17/2004        bbradley2@themeforest.net       Betty  Female     3   \n",
       "3      7/6/2013          rmorales3@shinystat.com     Russell    Male     4   \n",
       "4     11/9/1995               rsims4@sina.com.cn       Randy    Male     5   \n",
       "5    10/25/2004                 jcruz5@wikia.com       Jerry    Male     6   \n",
       "6     3/23/2009        mmedina6@seattletimes.com    Michelle  Female     7   \n",
       "7      4/5/2002                  gellis7@hhs.gov     Gregory    Male     8   \n",
       "8     5/29/2014                blawson8@blog.com      Brenda  Female     9   \n",
       "9    10/30/2006              lkelly9@pcworld.com    Lawrence    Male    10   \n",
       "10    1/30/2010                jalvareza@fc2.com       Jason    Male    11   \n",
       "11    7/16/2003               hmarshallb@nps.gov      Harold    Male    12   \n",
       "12   10/31/1990       scampbellc@theguardian.com      Steven    Male    13   \n",
       "13    5/16/2013                   llongd@ask.com        Lois  Female    14   \n",
       "14    12/8/1997                 dhowelle@mit.edu       David    Male    15   \n",
       "15    7/11/2013               jwhitef@netlog.com       Julie  Female    16   \n",
       "16    8/30/2010             eknightg@auda.org.au        Eric    Male    17   \n",
       "17   11/12/2004           woliverh@imageshack.us       Wayne    Male    18   \n",
       "18    9/16/2006                cperryi@wikia.com      Cheryl  Female    19   \n",
       "19    5/21/1991               ssanchezj@jugem.jp        Sean    Male    20   \n",
       "20    10/2/2008              dwellsk@nytimes.com      Donald    Male    21   \n",
       "21    3/21/2013              jhudsonl@github.com      Justin    Male    22   \n",
       "22   11/18/2007        krobinsonm@feedburner.com       Keith    Male    23   \n",
       "23    5/28/1994     gwilliamsonn@liveinternet.ru      Gloria  Female    24   \n",
       "24    7/26/1995              jpierceo@forbes.com       Jimmy    Male    25   \n",
       "25     9/5/2010              drosep@omniture.com      Daniel    Male    26   \n",
       "26    1/17/1993              ajenkinsq@hc360.com        Adam    Male    27   \n",
       "27     9/4/1994        jgardnerr@theguardian.com  Jacqueline  Female    28   \n",
       "28    8/24/1990                  amorenos@nhs.uk      Arthur    Male    29   \n",
       "29    6/24/2009             flewist@facebook.com       Frank    Male    30   \n",
       "..          ...                              ...         ...     ...   ...   \n",
       "970   9/10/2013  acrawfordqy@acquirethisname.com      Amanda  Female   971   \n",
       "971   3/17/2002            rwilliamsqz@zdnet.com        Ruth  Female   972   \n",
       "972   4/15/2001           cwilliamsr0@devhub.com   Christine  Female   973   \n",
       "973   3/29/2014   jelliottr1@businessinsider.com     Jessica  Female   974   \n",
       "974   1/31/2012              aarnoldr2@lycos.com        Alan    Male   975   \n",
       "975    9/5/2007         fcarterr3@technorati.com     Frances  Female   976   \n",
       "976   3/30/2007          jhayesr4@opensource.org       Jerry    Male   977   \n",
       "977    2/9/2014              rpricer5@cpanel.net        Rose  Female   978   \n",
       "978   2/14/2015              amorrisonr6@nba.com         Amy  Female   979   \n",
       "979   4/24/2011          erogersr7@csmonitor.com        Earl    Male   980   \n",
       "980   2/26/1991             tgarciar8@oracle.com        Tina  Female   981   \n",
       "981   7/11/2004          hweaverr9@newyorker.com      Howard    Male   982   \n",
       "982   10/7/2012                 sdavisra@ted.com     Shirley  Female   983   \n",
       "983   11/3/1993           lroserb@mayoclinic.com    Lawrence    Male   984   \n",
       "984  12/31/2005          mbryantrc@geocities.com     Melissa  Female   985   \n",
       "985   5/23/2009               wgomezrd@nymag.com      Walter    Male   986   \n",
       "986   1/25/2015                kgibsonre@usa.gov       Karen  Female   987   \n",
       "987   2/25/2000                 kpricerf@loc.gov       Karen  Female   988   \n",
       "988   5/26/2013               psullivanrg@cbc.ca       Paula  Female   989   \n",
       "989    7/9/2012        jmorrisonrh@123-reg.co.uk        Judy  Female   990   \n",
       "990   8/29/2000             jolsonri@nbcnews.com        Jane  Female   991   \n",
       "991    2/6/2012                 dsimsrj@ox.ac.uk       Doris  Female   992   \n",
       "992    3/9/1998             aelliottrk@umich.edu      Amanda  Female   993   \n",
       "993   2/13/1999               bmendozarl@cdc.gov      Brenda  Female   994   \n",
       "994    8/8/2016                isimsrm@fotki.com       Irene  Female   995   \n",
       "995   6/20/2000               jtaylorrn@usgs.gov      Justin    Male   996   \n",
       "996    6/7/2000           phudsonro@sakura.ne.jp       Paula  Female   997   \n",
       "997  11/22/1997              scampbellrp@wix.com      Sandra  Female   998   \n",
       "998   6/22/1996                 vpaynerq@fda.gov      Victor    Male   999   \n",
       "999   11/9/1995                rwarrenrr@mlb.com     Richard    Male  1000   \n",
       "\n",
       "      last_name  \n",
       "0          Diaz  \n",
       "1       Garrett  \n",
       "2       Bradley  \n",
       "3       Morales  \n",
       "4          Sims  \n",
       "5          Cruz  \n",
       "6        Medina  \n",
       "7         Ellis  \n",
       "8        Lawson  \n",
       "9         Kelly  \n",
       "10      Alvarez  \n",
       "11     Marshall  \n",
       "12     Campbell  \n",
       "13         Long  \n",
       "14       Howell  \n",
       "15        White  \n",
       "16       Knight  \n",
       "17       Oliver  \n",
       "18        Perry  \n",
       "19      Sanchez  \n",
       "20        Wells  \n",
       "21       Hudson  \n",
       "22     Robinson  \n",
       "23   Williamson  \n",
       "24       Pierce  \n",
       "25         Rose  \n",
       "26      Jenkins  \n",
       "27      Gardner  \n",
       "28       Moreno  \n",
       "29        Lewis  \n",
       "..          ...  \n",
       "970    Crawford  \n",
       "971    Williams  \n",
       "972    Williams  \n",
       "973     Elliott  \n",
       "974      Arnold  \n",
       "975      Carter  \n",
       "976       Hayes  \n",
       "977       Price  \n",
       "978    Morrison  \n",
       "979      Rogers  \n",
       "980      Garcia  \n",
       "981      Weaver  \n",
       "982       Davis  \n",
       "983        Rose  \n",
       "984      Bryant  \n",
       "985       Gomez  \n",
       "986      Gibson  \n",
       "987       Price  \n",
       "988    Sullivan  \n",
       "989    Morrison  \n",
       "990       Olson  \n",
       "991        Sims  \n",
       "992     Elliott  \n",
       "993     Mendoza  \n",
       "994        Sims  \n",
       "995      Taylor  \n",
       "996      Hudson  \n",
       "997    Campbell  \n",
       "998       Payne  \n",
       "999      Warren  \n",
       "\n",
       "[1000 rows x 6 columns]"
      ]
     },
     "execution_count": 6,
     "metadata": {},
     "output_type": "execute_result"
    }
   ],
   "source": [
    "json_df  = pd.read_json('/home/celia/Downloads/MOCK_DATA.json')\n",
    "json_df"
   ]
  },
  {
   "cell_type": "code",
   "execution_count": 10,
   "metadata": {
    "collapsed": false
   },
   "outputs": [],
   "source": [
    "json_df.to_sql('Customer', engine, index=None)"
   ]
  },
  {
   "cell_type": "markdown",
   "metadata": {},
   "source": [
    "#### Hacer la query especificando el \"engine\" que se desea usar"
   ]
  },
  {
   "cell_type": "code",
   "execution_count": 15,
   "metadata": {
    "collapsed": false
   },
   "outputs": [
    {
     "data": {
      "text/html": [
       "<div>\n",
       "<table border=\"1\" class=\"dataframe\">\n",
       "  <thead>\n",
       "    <tr style=\"text-align: right;\">\n",
       "      <th></th>\n",
       "      <th>email</th>\n",
       "      <th>bday</th>\n",
       "      <th>first_name</th>\n",
       "    </tr>\n",
       "  </thead>\n",
       "  <tbody>\n",
       "    <tr>\n",
       "      <th>0</th>\n",
       "      <td>gdiaz0@gizmodo.com</td>\n",
       "      <td>7/13/2016</td>\n",
       "      <td>Gloria</td>\n",
       "    </tr>\n",
       "    <tr>\n",
       "      <th>1</th>\n",
       "      <td>pgarrett1@diigo.com</td>\n",
       "      <td>10/27/1993</td>\n",
       "      <td>Peter</td>\n",
       "    </tr>\n",
       "    <tr>\n",
       "      <th>2</th>\n",
       "      <td>bbradley2@themeforest.net</td>\n",
       "      <td>5/17/2004</td>\n",
       "      <td>Betty</td>\n",
       "    </tr>\n",
       "    <tr>\n",
       "      <th>3</th>\n",
       "      <td>rmorales3@shinystat.com</td>\n",
       "      <td>7/6/2013</td>\n",
       "      <td>Russell</td>\n",
       "    </tr>\n",
       "    <tr>\n",
       "      <th>4</th>\n",
       "      <td>rsims4@sina.com.cn</td>\n",
       "      <td>11/9/1995</td>\n",
       "      <td>Randy</td>\n",
       "    </tr>\n",
       "    <tr>\n",
       "      <th>5</th>\n",
       "      <td>jcruz5@wikia.com</td>\n",
       "      <td>10/25/2004</td>\n",
       "      <td>Jerry</td>\n",
       "    </tr>\n",
       "    <tr>\n",
       "      <th>6</th>\n",
       "      <td>mmedina6@seattletimes.com</td>\n",
       "      <td>3/23/2009</td>\n",
       "      <td>Michelle</td>\n",
       "    </tr>\n",
       "    <tr>\n",
       "      <th>7</th>\n",
       "      <td>gellis7@hhs.gov</td>\n",
       "      <td>4/5/2002</td>\n",
       "      <td>Gregory</td>\n",
       "    </tr>\n",
       "    <tr>\n",
       "      <th>8</th>\n",
       "      <td>blawson8@blog.com</td>\n",
       "      <td>5/29/2014</td>\n",
       "      <td>Brenda</td>\n",
       "    </tr>\n",
       "    <tr>\n",
       "      <th>9</th>\n",
       "      <td>lkelly9@pcworld.com</td>\n",
       "      <td>10/30/2006</td>\n",
       "      <td>Lawrence</td>\n",
       "    </tr>\n",
       "    <tr>\n",
       "      <th>10</th>\n",
       "      <td>jalvareza@fc2.com</td>\n",
       "      <td>1/30/2010</td>\n",
       "      <td>Jason</td>\n",
       "    </tr>\n",
       "    <tr>\n",
       "      <th>11</th>\n",
       "      <td>hmarshallb@nps.gov</td>\n",
       "      <td>7/16/2003</td>\n",
       "      <td>Harold</td>\n",
       "    </tr>\n",
       "    <tr>\n",
       "      <th>12</th>\n",
       "      <td>scampbellc@theguardian.com</td>\n",
       "      <td>10/31/1990</td>\n",
       "      <td>Steven</td>\n",
       "    </tr>\n",
       "    <tr>\n",
       "      <th>13</th>\n",
       "      <td>llongd@ask.com</td>\n",
       "      <td>5/16/2013</td>\n",
       "      <td>Lois</td>\n",
       "    </tr>\n",
       "    <tr>\n",
       "      <th>14</th>\n",
       "      <td>dhowelle@mit.edu</td>\n",
       "      <td>12/8/1997</td>\n",
       "      <td>David</td>\n",
       "    </tr>\n",
       "    <tr>\n",
       "      <th>15</th>\n",
       "      <td>jwhitef@netlog.com</td>\n",
       "      <td>7/11/2013</td>\n",
       "      <td>Julie</td>\n",
       "    </tr>\n",
       "    <tr>\n",
       "      <th>16</th>\n",
       "      <td>eknightg@auda.org.au</td>\n",
       "      <td>8/30/2010</td>\n",
       "      <td>Eric</td>\n",
       "    </tr>\n",
       "    <tr>\n",
       "      <th>17</th>\n",
       "      <td>woliverh@imageshack.us</td>\n",
       "      <td>11/12/2004</td>\n",
       "      <td>Wayne</td>\n",
       "    </tr>\n",
       "    <tr>\n",
       "      <th>18</th>\n",
       "      <td>cperryi@wikia.com</td>\n",
       "      <td>9/16/2006</td>\n",
       "      <td>Cheryl</td>\n",
       "    </tr>\n",
       "    <tr>\n",
       "      <th>19</th>\n",
       "      <td>ssanchezj@jugem.jp</td>\n",
       "      <td>5/21/1991</td>\n",
       "      <td>Sean</td>\n",
       "    </tr>\n",
       "    <tr>\n",
       "      <th>20</th>\n",
       "      <td>dwellsk@nytimes.com</td>\n",
       "      <td>10/2/2008</td>\n",
       "      <td>Donald</td>\n",
       "    </tr>\n",
       "    <tr>\n",
       "      <th>21</th>\n",
       "      <td>jhudsonl@github.com</td>\n",
       "      <td>3/21/2013</td>\n",
       "      <td>Justin</td>\n",
       "    </tr>\n",
       "    <tr>\n",
       "      <th>22</th>\n",
       "      <td>krobinsonm@feedburner.com</td>\n",
       "      <td>11/18/2007</td>\n",
       "      <td>Keith</td>\n",
       "    </tr>\n",
       "    <tr>\n",
       "      <th>23</th>\n",
       "      <td>gwilliamsonn@liveinternet.ru</td>\n",
       "      <td>5/28/1994</td>\n",
       "      <td>Gloria</td>\n",
       "    </tr>\n",
       "    <tr>\n",
       "      <th>24</th>\n",
       "      <td>jpierceo@forbes.com</td>\n",
       "      <td>7/26/1995</td>\n",
       "      <td>Jimmy</td>\n",
       "    </tr>\n",
       "    <tr>\n",
       "      <th>25</th>\n",
       "      <td>drosep@omniture.com</td>\n",
       "      <td>9/5/2010</td>\n",
       "      <td>Daniel</td>\n",
       "    </tr>\n",
       "    <tr>\n",
       "      <th>26</th>\n",
       "      <td>ajenkinsq@hc360.com</td>\n",
       "      <td>1/17/1993</td>\n",
       "      <td>Adam</td>\n",
       "    </tr>\n",
       "    <tr>\n",
       "      <th>27</th>\n",
       "      <td>jgardnerr@theguardian.com</td>\n",
       "      <td>9/4/1994</td>\n",
       "      <td>Jacqueline</td>\n",
       "    </tr>\n",
       "    <tr>\n",
       "      <th>28</th>\n",
       "      <td>amorenos@nhs.uk</td>\n",
       "      <td>8/24/1990</td>\n",
       "      <td>Arthur</td>\n",
       "    </tr>\n",
       "    <tr>\n",
       "      <th>29</th>\n",
       "      <td>flewist@facebook.com</td>\n",
       "      <td>6/24/2009</td>\n",
       "      <td>Frank</td>\n",
       "    </tr>\n",
       "    <tr>\n",
       "      <th>...</th>\n",
       "      <td>...</td>\n",
       "      <td>...</td>\n",
       "      <td>...</td>\n",
       "    </tr>\n",
       "    <tr>\n",
       "      <th>970</th>\n",
       "      <td>acrawfordqy@acquirethisname.com</td>\n",
       "      <td>9/10/2013</td>\n",
       "      <td>Amanda</td>\n",
       "    </tr>\n",
       "    <tr>\n",
       "      <th>971</th>\n",
       "      <td>rwilliamsqz@zdnet.com</td>\n",
       "      <td>3/17/2002</td>\n",
       "      <td>Ruth</td>\n",
       "    </tr>\n",
       "    <tr>\n",
       "      <th>972</th>\n",
       "      <td>cwilliamsr0@devhub.com</td>\n",
       "      <td>4/15/2001</td>\n",
       "      <td>Christine</td>\n",
       "    </tr>\n",
       "    <tr>\n",
       "      <th>973</th>\n",
       "      <td>jelliottr1@businessinsider.com</td>\n",
       "      <td>3/29/2014</td>\n",
       "      <td>Jessica</td>\n",
       "    </tr>\n",
       "    <tr>\n",
       "      <th>974</th>\n",
       "      <td>aarnoldr2@lycos.com</td>\n",
       "      <td>1/31/2012</td>\n",
       "      <td>Alan</td>\n",
       "    </tr>\n",
       "    <tr>\n",
       "      <th>975</th>\n",
       "      <td>fcarterr3@technorati.com</td>\n",
       "      <td>9/5/2007</td>\n",
       "      <td>Frances</td>\n",
       "    </tr>\n",
       "    <tr>\n",
       "      <th>976</th>\n",
       "      <td>jhayesr4@opensource.org</td>\n",
       "      <td>3/30/2007</td>\n",
       "      <td>Jerry</td>\n",
       "    </tr>\n",
       "    <tr>\n",
       "      <th>977</th>\n",
       "      <td>rpricer5@cpanel.net</td>\n",
       "      <td>2/9/2014</td>\n",
       "      <td>Rose</td>\n",
       "    </tr>\n",
       "    <tr>\n",
       "      <th>978</th>\n",
       "      <td>amorrisonr6@nba.com</td>\n",
       "      <td>2/14/2015</td>\n",
       "      <td>Amy</td>\n",
       "    </tr>\n",
       "    <tr>\n",
       "      <th>979</th>\n",
       "      <td>erogersr7@csmonitor.com</td>\n",
       "      <td>4/24/2011</td>\n",
       "      <td>Earl</td>\n",
       "    </tr>\n",
       "    <tr>\n",
       "      <th>980</th>\n",
       "      <td>tgarciar8@oracle.com</td>\n",
       "      <td>2/26/1991</td>\n",
       "      <td>Tina</td>\n",
       "    </tr>\n",
       "    <tr>\n",
       "      <th>981</th>\n",
       "      <td>hweaverr9@newyorker.com</td>\n",
       "      <td>7/11/2004</td>\n",
       "      <td>Howard</td>\n",
       "    </tr>\n",
       "    <tr>\n",
       "      <th>982</th>\n",
       "      <td>sdavisra@ted.com</td>\n",
       "      <td>10/7/2012</td>\n",
       "      <td>Shirley</td>\n",
       "    </tr>\n",
       "    <tr>\n",
       "      <th>983</th>\n",
       "      <td>lroserb@mayoclinic.com</td>\n",
       "      <td>11/3/1993</td>\n",
       "      <td>Lawrence</td>\n",
       "    </tr>\n",
       "    <tr>\n",
       "      <th>984</th>\n",
       "      <td>mbryantrc@geocities.com</td>\n",
       "      <td>12/31/2005</td>\n",
       "      <td>Melissa</td>\n",
       "    </tr>\n",
       "    <tr>\n",
       "      <th>985</th>\n",
       "      <td>wgomezrd@nymag.com</td>\n",
       "      <td>5/23/2009</td>\n",
       "      <td>Walter</td>\n",
       "    </tr>\n",
       "    <tr>\n",
       "      <th>986</th>\n",
       "      <td>kgibsonre@usa.gov</td>\n",
       "      <td>1/25/2015</td>\n",
       "      <td>Karen</td>\n",
       "    </tr>\n",
       "    <tr>\n",
       "      <th>987</th>\n",
       "      <td>kpricerf@loc.gov</td>\n",
       "      <td>2/25/2000</td>\n",
       "      <td>Karen</td>\n",
       "    </tr>\n",
       "    <tr>\n",
       "      <th>988</th>\n",
       "      <td>psullivanrg@cbc.ca</td>\n",
       "      <td>5/26/2013</td>\n",
       "      <td>Paula</td>\n",
       "    </tr>\n",
       "    <tr>\n",
       "      <th>989</th>\n",
       "      <td>jmorrisonrh@123-reg.co.uk</td>\n",
       "      <td>7/9/2012</td>\n",
       "      <td>Judy</td>\n",
       "    </tr>\n",
       "    <tr>\n",
       "      <th>990</th>\n",
       "      <td>jolsonri@nbcnews.com</td>\n",
       "      <td>8/29/2000</td>\n",
       "      <td>Jane</td>\n",
       "    </tr>\n",
       "    <tr>\n",
       "      <th>991</th>\n",
       "      <td>dsimsrj@ox.ac.uk</td>\n",
       "      <td>2/6/2012</td>\n",
       "      <td>Doris</td>\n",
       "    </tr>\n",
       "    <tr>\n",
       "      <th>992</th>\n",
       "      <td>aelliottrk@umich.edu</td>\n",
       "      <td>3/9/1998</td>\n",
       "      <td>Amanda</td>\n",
       "    </tr>\n",
       "    <tr>\n",
       "      <th>993</th>\n",
       "      <td>bmendozarl@cdc.gov</td>\n",
       "      <td>2/13/1999</td>\n",
       "      <td>Brenda</td>\n",
       "    </tr>\n",
       "    <tr>\n",
       "      <th>994</th>\n",
       "      <td>isimsrm@fotki.com</td>\n",
       "      <td>8/8/2016</td>\n",
       "      <td>Irene</td>\n",
       "    </tr>\n",
       "    <tr>\n",
       "      <th>995</th>\n",
       "      <td>jtaylorrn@usgs.gov</td>\n",
       "      <td>6/20/2000</td>\n",
       "      <td>Justin</td>\n",
       "    </tr>\n",
       "    <tr>\n",
       "      <th>996</th>\n",
       "      <td>phudsonro@sakura.ne.jp</td>\n",
       "      <td>6/7/2000</td>\n",
       "      <td>Paula</td>\n",
       "    </tr>\n",
       "    <tr>\n",
       "      <th>997</th>\n",
       "      <td>scampbellrp@wix.com</td>\n",
       "      <td>11/22/1997</td>\n",
       "      <td>Sandra</td>\n",
       "    </tr>\n",
       "    <tr>\n",
       "      <th>998</th>\n",
       "      <td>vpaynerq@fda.gov</td>\n",
       "      <td>6/22/1996</td>\n",
       "      <td>Victor</td>\n",
       "    </tr>\n",
       "    <tr>\n",
       "      <th>999</th>\n",
       "      <td>rwarrenrr@mlb.com</td>\n",
       "      <td>11/9/1995</td>\n",
       "      <td>Richard</td>\n",
       "    </tr>\n",
       "  </tbody>\n",
       "</table>\n",
       "<p>1000 rows × 3 columns</p>\n",
       "</div>"
      ],
      "text/plain": [
       "                               email        bday  first_name\n",
       "0                 gdiaz0@gizmodo.com   7/13/2016      Gloria\n",
       "1                pgarrett1@diigo.com  10/27/1993       Peter\n",
       "2          bbradley2@themeforest.net   5/17/2004       Betty\n",
       "3            rmorales3@shinystat.com    7/6/2013     Russell\n",
       "4                 rsims4@sina.com.cn   11/9/1995       Randy\n",
       "5                   jcruz5@wikia.com  10/25/2004       Jerry\n",
       "6          mmedina6@seattletimes.com   3/23/2009    Michelle\n",
       "7                    gellis7@hhs.gov    4/5/2002     Gregory\n",
       "8                  blawson8@blog.com   5/29/2014      Brenda\n",
       "9                lkelly9@pcworld.com  10/30/2006    Lawrence\n",
       "10                 jalvareza@fc2.com   1/30/2010       Jason\n",
       "11                hmarshallb@nps.gov   7/16/2003      Harold\n",
       "12        scampbellc@theguardian.com  10/31/1990      Steven\n",
       "13                    llongd@ask.com   5/16/2013        Lois\n",
       "14                  dhowelle@mit.edu   12/8/1997       David\n",
       "15                jwhitef@netlog.com   7/11/2013       Julie\n",
       "16              eknightg@auda.org.au   8/30/2010        Eric\n",
       "17            woliverh@imageshack.us  11/12/2004       Wayne\n",
       "18                 cperryi@wikia.com   9/16/2006      Cheryl\n",
       "19                ssanchezj@jugem.jp   5/21/1991        Sean\n",
       "20               dwellsk@nytimes.com   10/2/2008      Donald\n",
       "21               jhudsonl@github.com   3/21/2013      Justin\n",
       "22         krobinsonm@feedburner.com  11/18/2007       Keith\n",
       "23      gwilliamsonn@liveinternet.ru   5/28/1994      Gloria\n",
       "24               jpierceo@forbes.com   7/26/1995       Jimmy\n",
       "25               drosep@omniture.com    9/5/2010      Daniel\n",
       "26               ajenkinsq@hc360.com   1/17/1993        Adam\n",
       "27         jgardnerr@theguardian.com    9/4/1994  Jacqueline\n",
       "28                   amorenos@nhs.uk   8/24/1990      Arthur\n",
       "29              flewist@facebook.com   6/24/2009       Frank\n",
       "..                               ...         ...         ...\n",
       "970  acrawfordqy@acquirethisname.com   9/10/2013      Amanda\n",
       "971            rwilliamsqz@zdnet.com   3/17/2002        Ruth\n",
       "972           cwilliamsr0@devhub.com   4/15/2001   Christine\n",
       "973   jelliottr1@businessinsider.com   3/29/2014     Jessica\n",
       "974              aarnoldr2@lycos.com   1/31/2012        Alan\n",
       "975         fcarterr3@technorati.com    9/5/2007     Frances\n",
       "976          jhayesr4@opensource.org   3/30/2007       Jerry\n",
       "977              rpricer5@cpanel.net    2/9/2014        Rose\n",
       "978              amorrisonr6@nba.com   2/14/2015         Amy\n",
       "979          erogersr7@csmonitor.com   4/24/2011        Earl\n",
       "980             tgarciar8@oracle.com   2/26/1991        Tina\n",
       "981          hweaverr9@newyorker.com   7/11/2004      Howard\n",
       "982                 sdavisra@ted.com   10/7/2012     Shirley\n",
       "983           lroserb@mayoclinic.com   11/3/1993    Lawrence\n",
       "984          mbryantrc@geocities.com  12/31/2005     Melissa\n",
       "985               wgomezrd@nymag.com   5/23/2009      Walter\n",
       "986                kgibsonre@usa.gov   1/25/2015       Karen\n",
       "987                 kpricerf@loc.gov   2/25/2000       Karen\n",
       "988               psullivanrg@cbc.ca   5/26/2013       Paula\n",
       "989        jmorrisonrh@123-reg.co.uk    7/9/2012        Judy\n",
       "990             jolsonri@nbcnews.com   8/29/2000        Jane\n",
       "991                 dsimsrj@ox.ac.uk    2/6/2012       Doris\n",
       "992             aelliottrk@umich.edu    3/9/1998      Amanda\n",
       "993               bmendozarl@cdc.gov   2/13/1999      Brenda\n",
       "994                isimsrm@fotki.com    8/8/2016       Irene\n",
       "995               jtaylorrn@usgs.gov   6/20/2000      Justin\n",
       "996           phudsonro@sakura.ne.jp    6/7/2000       Paula\n",
       "997              scampbellrp@wix.com  11/22/1997      Sandra\n",
       "998                 vpaynerq@fda.gov   6/22/1996      Victor\n",
       "999                rwarrenrr@mlb.com   11/9/1995     Richard\n",
       "\n",
       "[1000 rows x 3 columns]"
      ]
     },
     "execution_count": 15,
     "metadata": {},
     "output_type": "execute_result"
    }
   ],
   "source": [
    "df_customer = pd.read_sql_query('select email, bday, first_name from \"Customer\"',con=engine)\n",
    "df_customer"
   ]
  },
  {
   "cell_type": "code",
   "execution_count": 16,
   "metadata": {
    "collapsed": false
   },
   "outputs": [
    {
     "name": "stdout",
     "output_type": "stream",
     "text": [
      "<class 'pandas.core.frame.DataFrame'>\n",
      "Int64Index: 1000 entries, 0 to 999\n",
      "Data columns (total 3 columns):\n",
      "email         1000 non-null object\n",
      "bday          1000 non-null object\n",
      "first_name    1000 non-null object\n",
      "dtypes: object(3)\n",
      "memory usage: 31.2+ KB\n"
     ]
    }
   ],
   "source": [
    "df_customer.info()"
   ]
  },
  {
   "cell_type": "code",
   "execution_count": 18,
   "metadata": {
    "collapsed": false
   },
   "outputs": [
    {
     "data": {
      "text/html": [
       "<div>\n",
       "<table border=\"1\" class=\"dataframe\">\n",
       "  <thead>\n",
       "    <tr style=\"text-align: right;\">\n",
       "      <th></th>\n",
       "      <th>email</th>\n",
       "      <th>bday</th>\n",
       "      <th>first_name</th>\n",
       "    </tr>\n",
       "  </thead>\n",
       "  <tbody>\n",
       "    <tr>\n",
       "      <th>count</th>\n",
       "      <td>1000</td>\n",
       "      <td>1000</td>\n",
       "      <td>1000</td>\n",
       "    </tr>\n",
       "    <tr>\n",
       "      <th>unique</th>\n",
       "      <td>1000</td>\n",
       "      <td>953</td>\n",
       "      <td>199</td>\n",
       "    </tr>\n",
       "    <tr>\n",
       "      <th>top</th>\n",
       "      <td>bbellbc@gmpg.org</td>\n",
       "      <td>8/2/2008</td>\n",
       "      <td>James</td>\n",
       "    </tr>\n",
       "    <tr>\n",
       "      <th>freq</th>\n",
       "      <td>1</td>\n",
       "      <td>2</td>\n",
       "      <td>12</td>\n",
       "    </tr>\n",
       "  </tbody>\n",
       "</table>\n",
       "</div>"
      ],
      "text/plain": [
       "                   email      bday first_name\n",
       "count               1000      1000       1000\n",
       "unique              1000       953        199\n",
       "top     bbellbc@gmpg.org  8/2/2008      James\n",
       "freq                   1         2         12"
      ]
     },
     "execution_count": 18,
     "metadata": {},
     "output_type": "execute_result"
    }
   ],
   "source": [
    "df_customer.describe()"
   ]
  },
  {
   "cell_type": "markdown",
   "metadata": {},
   "source": [
    "Link a [Pandas NB](Starting%20with%20pandas.ipynb) para ver join, merge, append, etc"
   ]
  },
  {
   "cell_type": "markdown",
   "metadata": {},
   "source": [
    "#### Agregando un nuevo registro a nuestra tabla \"Customer\" con pandas"
   ]
  },
  {
   "cell_type": "code",
   "execution_count": 19,
   "metadata": {
    "collapsed": false
   },
   "outputs": [
    {
     "data": {
      "text/plain": [
       "Index([u'bday', u'email', u'first_name', u'gender', u'id', u'last_name'], dtype='object')"
      ]
     },
     "execution_count": 19,
     "metadata": {},
     "output_type": "execute_result"
    }
   ],
   "source": [
    "json_df.columns"
   ]
  },
  {
   "cell_type": "code",
   "execution_count": 20,
   "metadata": {
    "collapsed": false
   },
   "outputs": [
    {
     "data": {
      "text/html": [
       "<div>\n",
       "<table border=\"1\" class=\"dataframe\">\n",
       "  <thead>\n",
       "    <tr style=\"text-align: right;\">\n",
       "      <th></th>\n",
       "      <th>bday</th>\n",
       "      <th>email</th>\n",
       "      <th>first_name</th>\n",
       "      <th>gender</th>\n",
       "      <th>id</th>\n",
       "      <th>last_name</th>\n",
       "    </tr>\n",
       "  </thead>\n",
       "  <tbody>\n",
       "    <tr>\n",
       "      <th>0</th>\n",
       "      <td>1990-03-19</td>\n",
       "      <td>cintas.celia@gmail.com</td>\n",
       "      <td>celia</td>\n",
       "      <td>Female</td>\n",
       "      <td>10000</td>\n",
       "      <td>cintas</td>\n",
       "    </tr>\n",
       "  </tbody>\n",
       "</table>\n",
       "</div>"
      ],
      "text/plain": [
       "        bday                   email first_name  gender     id last_name\n",
       "0 1990-03-19  cintas.celia@gmail.com      celia  Female  10000    cintas"
      ]
     },
     "execution_count": 20,
     "metadata": {},
     "output_type": "execute_result"
    }
   ],
   "source": [
    "new_df = pd.DataFrame([[pd.datetime(1990, 3, 19),'cintas.celia@gmail.com', 'celia', 'Female', 10000, 'cintas']], columns=json_df.columns)\n",
    "new_df"
   ]
  },
  {
   "cell_type": "code",
   "execution_count": 21,
   "metadata": {
    "collapsed": false
   },
   "outputs": [],
   "source": [
    "new_df.to_sql('Customer', engine, if_exists='append', index=None)"
   ]
  },
  {
   "cell_type": "code",
   "execution_count": 32,
   "metadata": {
    "collapsed": false
   },
   "outputs": [
    {
     "data": {
      "text/html": [
       "<div>\n",
       "<table border=\"1\" class=\"dataframe\">\n",
       "  <thead>\n",
       "    <tr style=\"text-align: right;\">\n",
       "      <th></th>\n",
       "      <th>bday</th>\n",
       "      <th>email</th>\n",
       "      <th>first_name</th>\n",
       "      <th>gender</th>\n",
       "      <th>id</th>\n",
       "      <th>last_name</th>\n",
       "    </tr>\n",
       "  </thead>\n",
       "  <tbody>\n",
       "    <tr>\n",
       "      <th>0</th>\n",
       "      <td>1990-03-19 00:00:00</td>\n",
       "      <td>cintas.celia@gmail.com</td>\n",
       "      <td>celia</td>\n",
       "      <td>Female</td>\n",
       "      <td>10000</td>\n",
       "      <td>cintas</td>\n",
       "    </tr>\n",
       "  </tbody>\n",
       "</table>\n",
       "</div>"
      ],
      "text/plain": [
       "                  bday                   email first_name  gender     id  \\\n",
       "0  1990-03-19 00:00:00  cintas.celia@gmail.com      celia  Female  10000   \n",
       "\n",
       "  last_name  \n",
       "0    cintas  "
      ]
     },
     "execution_count": 32,
     "metadata": {},
     "output_type": "execute_result"
    }
   ],
   "source": [
    "df_customer = pd.read_sql_query('select * from \"Customer\" WHERE id = 10000;', con=engine)\n",
    "df_customer"
   ]
  },
  {
   "cell_type": "markdown",
   "metadata": {},
   "source": [
    "#### Agregando una nueva tabla a nuestra db desde pandas"
   ]
  },
  {
   "cell_type": "code",
   "execution_count": 33,
   "metadata": {
    "collapsed": false
   },
   "outputs": [
    {
     "data": {
      "text/html": [
       "<div>\n",
       "<table border=\"1\" class=\"dataframe\">\n",
       "  <thead>\n",
       "    <tr style=\"text-align: right;\">\n",
       "      <th></th>\n",
       "      <th>WineCode</th>\n",
       "      <th>Type</th>\n",
       "      <th>Vintage</th>\n",
       "    </tr>\n",
       "  </thead>\n",
       "  <tbody>\n",
       "  </tbody>\n",
       "</table>\n",
       "</div>"
      ],
      "text/plain": [
       "Empty DataFrame\n",
       "Columns: [WineCode, Type, Vintage]\n",
       "Index: []"
      ]
     },
     "execution_count": 33,
     "metadata": {},
     "output_type": "execute_result"
    }
   ],
   "source": [
    "new_table = pd.DataFrame([], columns=['WineCode', 'Type', 'Vintage'])\n",
    "new_table"
   ]
  },
  {
   "cell_type": "code",
   "execution_count": null,
   "metadata": {
    "collapsed": false
   },
   "outputs": [],
   "source": [
    "new_table.to_sql('Wine', engine, index=None)"
   ]
  },
  {
   "cell_type": "markdown",
   "metadata": {},
   "source": [
    "#### Ahora hagamos lo mismo con sqlalchemy"
   ]
  },
  {
   "cell_type": "code",
   "execution_count": 36,
   "metadata": {
    "collapsed": true
   },
   "outputs": [],
   "source": [
    "from sqlalchemy import MetaData, types\n",
    "from sqlalchemy import Table, Column"
   ]
  },
  {
   "cell_type": "code",
   "execution_count": 37,
   "metadata": {
    "collapsed": true
   },
   "outputs": [],
   "source": [
    "metadata = MetaData()"
   ]
  },
  {
   "cell_type": "code",
   "execution_count": 38,
   "metadata": {
    "collapsed": false
   },
   "outputs": [],
   "source": [
    "time = Table('Time', metadata,\n",
    "    Column('TimeCode', types.Integer, primary_key=True),\n",
    "    Column('Date', types.DateTime, nullable=False),\n",
    " )"
   ]
  },
  {
   "cell_type": "code",
   "execution_count": 39,
   "metadata": {
    "collapsed": true
   },
   "outputs": [],
   "source": [
    "metadata.create_all(engine)"
   ]
  },
  {
   "cell_type": "markdown",
   "metadata": {},
   "source": [
    "### Agregando elementos a Wine con pandas"
   ]
  },
  {
   "cell_type": "code",
   "execution_count": 40,
   "metadata": {
    "collapsed": true
   },
   "outputs": [],
   "source": [
    "data = [[1, 'White', 2000],\n",
    "        [2, 'red', 2015],\n",
    "        [3, 'rose', 2014]]"
   ]
  },
  {
   "cell_type": "code",
   "execution_count": 42,
   "metadata": {
    "collapsed": false
   },
   "outputs": [],
   "source": [
    "new_df = pd.DataFrame(data, columns=new_table.columns)"
   ]
  },
  {
   "cell_type": "code",
   "execution_count": 43,
   "metadata": {
    "collapsed": true
   },
   "outputs": [],
   "source": [
    "new_df.to_sql('Wine', engine, if_exists='append', index=None)"
   ]
  },
  {
   "cell_type": "code",
   "execution_count": 44,
   "metadata": {
    "collapsed": false
   },
   "outputs": [
    {
     "data": {
      "text/html": [
       "<div>\n",
       "<table border=\"1\" class=\"dataframe\">\n",
       "  <thead>\n",
       "    <tr style=\"text-align: right;\">\n",
       "      <th></th>\n",
       "      <th>WineCode</th>\n",
       "      <th>Type</th>\n",
       "      <th>Vintage</th>\n",
       "    </tr>\n",
       "  </thead>\n",
       "  <tbody>\n",
       "    <tr>\n",
       "      <th>0</th>\n",
       "      <td>1</td>\n",
       "      <td>White</td>\n",
       "      <td>2000</td>\n",
       "    </tr>\n",
       "    <tr>\n",
       "      <th>1</th>\n",
       "      <td>2</td>\n",
       "      <td>red</td>\n",
       "      <td>2015</td>\n",
       "    </tr>\n",
       "    <tr>\n",
       "      <th>2</th>\n",
       "      <td>3</td>\n",
       "      <td>rose</td>\n",
       "      <td>2014</td>\n",
       "    </tr>\n",
       "  </tbody>\n",
       "</table>\n",
       "</div>"
      ],
      "text/plain": [
       "  WineCode   Type Vintage\n",
       "0        1  White    2000\n",
       "1        2    red    2015\n",
       "2        3   rose    2014"
      ]
     },
     "execution_count": 44,
     "metadata": {},
     "output_type": "execute_result"
    }
   ],
   "source": [
    "df_wine = pd.read_sql_query('select * from \"Wine\"',con=engine)\n",
    "df_wine"
   ]
  },
  {
   "cell_type": "code",
   "execution_count": 45,
   "metadata": {
    "collapsed": true
   },
   "outputs": [],
   "source": [
    "data = [[1, 'White', pd.datetime(2000, 10, 10)],\n",
    "        [2, 'red', pd.datetime(2010, 9, 9)],\n",
    "        [3, 'rose', pd.datetime(2011, 9, 9)]]"
   ]
  },
  {
   "cell_type": "code",
   "execution_count": 46,
   "metadata": {
    "collapsed": false
   },
   "outputs": [
    {
     "data": {
      "text/plain": [
       "0   2000-10-10\n",
       "1   2010-09-09\n",
       "2   2011-09-09\n",
       "Name: Vintage, dtype: datetime64[ns]"
      ]
     },
     "execution_count": 46,
     "metadata": {},
     "output_type": "execute_result"
    }
   ],
   "source": [
    "new_df = pd.DataFrame(data, columns=df_wine.columns)\n",
    "new_df['Vintage']"
   ]
  },
  {
   "cell_type": "code",
   "execution_count": 56,
   "metadata": {
    "collapsed": true
   },
   "outputs": [],
   "source": [
    "new_df.to_json('/tmp/lero.json', date_unit='ns')"
   ]
  },
  {
   "cell_type": "code",
   "execution_count": 57,
   "metadata": {
    "collapsed": false
   },
   "outputs": [
    {
     "data": {
      "text/html": [
       "<div>\n",
       "<table border=\"1\" class=\"dataframe\">\n",
       "  <thead>\n",
       "    <tr style=\"text-align: right;\">\n",
       "      <th></th>\n",
       "      <th>Type</th>\n",
       "      <th>Vintage</th>\n",
       "      <th>WineCode</th>\n",
       "    </tr>\n",
       "  </thead>\n",
       "  <tbody>\n",
       "    <tr>\n",
       "      <th>0</th>\n",
       "      <td>White</td>\n",
       "      <td>971136000000000000</td>\n",
       "      <td>1</td>\n",
       "    </tr>\n",
       "    <tr>\n",
       "      <th>1</th>\n",
       "      <td>red</td>\n",
       "      <td>1283990400000000000</td>\n",
       "      <td>2</td>\n",
       "    </tr>\n",
       "    <tr>\n",
       "      <th>2</th>\n",
       "      <td>rose</td>\n",
       "      <td>1315526400000000000</td>\n",
       "      <td>3</td>\n",
       "    </tr>\n",
       "  </tbody>\n",
       "</table>\n",
       "</div>"
      ],
      "text/plain": [
       "    Type              Vintage  WineCode\n",
       "0  White   971136000000000000         1\n",
       "1    red  1283990400000000000         2\n",
       "2   rose  1315526400000000000         3"
      ]
     },
     "execution_count": 57,
     "metadata": {},
     "output_type": "execute_result"
    }
   ],
   "source": [
    "json_demo = pd.read_json('/tmp/lero.json')\n",
    "json_demo"
   ]
  },
  {
   "cell_type": "code",
   "execution_count": 58,
   "metadata": {
    "collapsed": false
   },
   "outputs": [
    {
     "data": {
      "text/html": [
       "<div>\n",
       "<table border=\"1\" class=\"dataframe\">\n",
       "  <thead>\n",
       "    <tr style=\"text-align: right;\">\n",
       "      <th></th>\n",
       "      <th>WineCode</th>\n",
       "      <th>Type</th>\n",
       "      <th>Vintage</th>\n",
       "    </tr>\n",
       "  </thead>\n",
       "  <tbody>\n",
       "    <tr>\n",
       "      <th>0</th>\n",
       "      <td>1</td>\n",
       "      <td>White</td>\n",
       "      <td>2000-10-10</td>\n",
       "    </tr>\n",
       "    <tr>\n",
       "      <th>1</th>\n",
       "      <td>2</td>\n",
       "      <td>red</td>\n",
       "      <td>2010-09-09</td>\n",
       "    </tr>\n",
       "    <tr>\n",
       "      <th>2</th>\n",
       "      <td>3</td>\n",
       "      <td>rose</td>\n",
       "      <td>2011-09-09</td>\n",
       "    </tr>\n",
       "  </tbody>\n",
       "</table>\n",
       "</div>"
      ],
      "text/plain": [
       "   WineCode   Type    Vintage\n",
       "0         1  White 2000-10-10\n",
       "1         2    red 2010-09-09\n",
       "2         3   rose 2011-09-09"
      ]
     },
     "execution_count": 58,
     "metadata": {},
     "output_type": "execute_result"
    }
   ],
   "source": [
    "new_df"
   ]
  },
  {
   "cell_type": "code",
   "execution_count": 59,
   "metadata": {
    "collapsed": false
   },
   "outputs": [],
   "source": [
    "json_demo['Vintage'] = pd.to_datetime(json_demo['Vintage'], unit='ns')"
   ]
  },
  {
   "cell_type": "code",
   "execution_count": 60,
   "metadata": {
    "collapsed": false
   },
   "outputs": [
    {
     "data": {
      "text/html": [
       "<div>\n",
       "<table border=\"1\" class=\"dataframe\">\n",
       "  <thead>\n",
       "    <tr style=\"text-align: right;\">\n",
       "      <th></th>\n",
       "      <th>Type</th>\n",
       "      <th>Vintage</th>\n",
       "      <th>WineCode</th>\n",
       "    </tr>\n",
       "  </thead>\n",
       "  <tbody>\n",
       "    <tr>\n",
       "      <th>0</th>\n",
       "      <td>White</td>\n",
       "      <td>2000-10-10</td>\n",
       "      <td>1</td>\n",
       "    </tr>\n",
       "    <tr>\n",
       "      <th>1</th>\n",
       "      <td>red</td>\n",
       "      <td>2010-09-09</td>\n",
       "      <td>2</td>\n",
       "    </tr>\n",
       "    <tr>\n",
       "      <th>2</th>\n",
       "      <td>rose</td>\n",
       "      <td>2011-09-09</td>\n",
       "      <td>3</td>\n",
       "    </tr>\n",
       "  </tbody>\n",
       "</table>\n",
       "</div>"
      ],
      "text/plain": [
       "    Type    Vintage  WineCode\n",
       "0  White 2000-10-10         1\n",
       "1    red 2010-09-09         2\n",
       "2   rose 2011-09-09         3"
      ]
     },
     "execution_count": 60,
     "metadata": {},
     "output_type": "execute_result"
    }
   ],
   "source": [
    "json_demo"
   ]
  },
  {
   "cell_type": "code",
   "execution_count": 61,
   "metadata": {
    "collapsed": false
   },
   "outputs": [
    {
     "data": {
      "text/html": [
       "<div>\n",
       "<table border=\"1\" class=\"dataframe\">\n",
       "  <thead>\n",
       "    <tr style=\"text-align: right;\">\n",
       "      <th></th>\n",
       "      <th>WineCode</th>\n",
       "      <th>Type</th>\n",
       "      <th>Vintage</th>\n",
       "    </tr>\n",
       "  </thead>\n",
       "  <tbody>\n",
       "    <tr>\n",
       "      <th>0</th>\n",
       "      <td>1</td>\n",
       "      <td>White</td>\n",
       "      <td>2000-10-10</td>\n",
       "    </tr>\n",
       "    <tr>\n",
       "      <th>1</th>\n",
       "      <td>2</td>\n",
       "      <td>red</td>\n",
       "      <td>2010-09-09</td>\n",
       "    </tr>\n",
       "    <tr>\n",
       "      <th>2</th>\n",
       "      <td>3</td>\n",
       "      <td>rose</td>\n",
       "      <td>2011-09-09</td>\n",
       "    </tr>\n",
       "  </tbody>\n",
       "</table>\n",
       "</div>"
      ],
      "text/plain": [
       "   WineCode   Type    Vintage\n",
       "0         1  White 2000-10-10\n",
       "1         2    red 2010-09-09\n",
       "2         3   rose 2011-09-09"
      ]
     },
     "execution_count": 61,
     "metadata": {},
     "output_type": "execute_result"
    }
   ],
   "source": [
    "new_df"
   ]
  },
  {
   "cell_type": "code",
   "execution_count": 62,
   "metadata": {
    "collapsed": false
   },
   "outputs": [
    {
     "data": {
      "text/plain": [
       "array([u'Type', u'Vintage', u'WineCode'], dtype=object)"
      ]
     },
     "execution_count": 62,
     "metadata": {},
     "output_type": "execute_result"
    }
   ],
   "source": [
    "json_demo.columns.values"
   ]
  },
  {
   "cell_type": "code",
   "execution_count": 63,
   "metadata": {
    "collapsed": false
   },
   "outputs": [
    {
     "data": {
      "text/plain": [
       "array([[u'White', Timestamp('2000-10-10 00:00:00'), 1],\n",
       "       [u'red', Timestamp('2010-09-09 00:00:00'), 2],\n",
       "       [u'rose', Timestamp('2011-09-09 00:00:00'), 3]], dtype=object)"
      ]
     },
     "execution_count": 63,
     "metadata": {},
     "output_type": "execute_result"
    }
   ],
   "source": [
    "json_demo.values"
   ]
  },
  {
   "cell_type": "code",
   "execution_count": 64,
   "metadata": {
    "collapsed": false
   },
   "outputs": [
    {
     "data": {
      "text/html": [
       "<div>\n",
       "<table border=\"1\" class=\"dataframe\">\n",
       "  <thead>\n",
       "    <tr style=\"text-align: right;\">\n",
       "      <th></th>\n",
       "      <th>Type</th>\n",
       "      <th>Vintage</th>\n",
       "      <th>WineCode</th>\n",
       "    </tr>\n",
       "  </thead>\n",
       "  <tbody>\n",
       "    <tr>\n",
       "      <th>0</th>\n",
       "      <td>White</td>\n",
       "      <td>2000-10-10</td>\n",
       "      <td>1</td>\n",
       "    </tr>\n",
       "    <tr>\n",
       "      <th>1</th>\n",
       "      <td>red</td>\n",
       "      <td>2010-09-09</td>\n",
       "      <td>2</td>\n",
       "    </tr>\n",
       "    <tr>\n",
       "      <th>2</th>\n",
       "      <td>rose</td>\n",
       "      <td>2011-09-09</td>\n",
       "      <td>3</td>\n",
       "    </tr>\n",
       "  </tbody>\n",
       "</table>\n",
       "</div>"
      ],
      "text/plain": [
       "    Type    Vintage  WineCode\n",
       "0  White 2000-10-10         1\n",
       "1    red 2010-09-09         2\n",
       "2   rose 2011-09-09         3"
      ]
     },
     "execution_count": 64,
     "metadata": {},
     "output_type": "execute_result"
    }
   ],
   "source": [
    "pd.merge(json_demo, new_df, on=list(json_demo.columns.values), how='outer')"
   ]
  },
  {
   "cell_type": "code",
   "execution_count": 82,
   "metadata": {
    "collapsed": true
   },
   "outputs": [],
   "source": [
    "pd.Series?"
   ]
  },
  {
   "cell_type": "code",
   "execution_count": 65,
   "metadata": {
    "collapsed": false
   },
   "outputs": [
    {
     "data": {
      "text/plain": [
       "0    10\n",
       "1     9\n",
       "2     8\n",
       "Name: score, dtype: int64"
      ]
     },
     "execution_count": 65,
     "metadata": {},
     "output_type": "execute_result"
    }
   ],
   "source": [
    "score = pd.Series([10, 9, 8], name='score')\n",
    "score"
   ]
  },
  {
   "cell_type": "code",
   "execution_count": 66,
   "metadata": {
    "collapsed": false
   },
   "outputs": [],
   "source": [
    "out = pd.concat([json_demo, score], axis=1)\n",
    "new_row = pd.DataFrame([[4, 'espumeante',pd.datetime(2000,2,2)]], columns=new_df.columns)"
   ]
  },
  {
   "cell_type": "code",
   "execution_count": 67,
   "metadata": {
    "collapsed": false
   },
   "outputs": [],
   "source": [
    "append_df = new_df.append(new_row)"
   ]
  },
  {
   "cell_type": "code",
   "execution_count": 68,
   "metadata": {
    "collapsed": false
   },
   "outputs": [],
   "source": [
    "append_df.to_sql('Wine', engine, if_exists='append', index=None)"
   ]
  }
 ],
 "metadata": {
  "kernelspec": {
   "display_name": "Python 2",
   "language": "python2",
   "name": "python2"
  },
  "language_info": {
   "codemirror_mode": {
    "name": "ipython",
    "version": 2
   },
   "file_extension": ".py",
   "mimetype": "text/x-python",
   "name": "python",
   "nbconvert_exporter": "python",
   "pygments_lexer": "ipython2",
   "version": "2.7.11"
  }
 },
 "nbformat": 4,
 "nbformat_minor": 0
}
