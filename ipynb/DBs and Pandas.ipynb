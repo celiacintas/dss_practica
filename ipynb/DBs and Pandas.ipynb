{
 "cells": [
  {
   "cell_type": "code",
   "execution_count": 3,
   "metadata": {
    "collapsed": true
   },
   "outputs": [],
   "source": [
    "from sqlalchemy import create_engine\n",
    "import pandas as pd"
   ]
  },
  {
   "cell_type": "markdown",
   "metadata": {},
   "source": [
    "#### Crear el \"engine\" pasando la dirección de la db"
   ]
  },
  {
   "cell_type": "code",
   "execution_count": 5,
   "metadata": {
    "collapsed": false
   },
   "outputs": [
    {
     "data": {
      "text/plain": [
       "Engine(postgresql://postgres@localhost:5432/Vinos)"
      ]
     },
     "execution_count": 5,
     "metadata": {},
     "output_type": "execute_result"
    }
   ],
   "source": [
    "engine = create_engine('postgresql://postgres@localhost:5432/Vinos')\n",
    "engine"
   ]
  },
  {
   "cell_type": "markdown",
   "metadata": {},
   "source": [
    "#### Lleno la tabla de Clientes"
   ]
  },
  {
   "cell_type": "code",
   "execution_count": 6,
   "metadata": {
    "collapsed": false
   },
   "outputs": [],
   "source": [
    "data = [[1, 'Customer 1', 'Address 1', '11111111', '2000-10-10', 'F'],\n",
    "        [2, 'Customer 2', 'Address 2', '22222222', '2015-01-12', 'M'],\n",
    "        [3, 'Customer 3', 'Address 3', '33333333', '2014-01-10', 'F'],\n",
    "        [4, 'Customer 3', 'Address 4', '44444444', '2011-01-10', 'F']\n",
    "       ]"
   ]
  },
  {
   "cell_type": "code",
   "execution_count": 11,
   "metadata": {
    "collapsed": false
   },
   "outputs": [
    {
     "data": {
      "text/html": [
       "<div>\n",
       "<table border=\"1\" class=\"dataframe\">\n",
       "  <thead>\n",
       "    <tr style=\"text-align: right;\">\n",
       "      <th></th>\n",
       "      <th>idCustomer</th>\n",
       "      <th>name</th>\n",
       "      <th>addess</th>\n",
       "      <th>phone</th>\n",
       "      <th>birthday</th>\n",
       "      <th>gender</th>\n",
       "    </tr>\n",
       "  </thead>\n",
       "  <tbody>\n",
       "    <tr>\n",
       "      <th>0</th>\n",
       "      <td>1</td>\n",
       "      <td>Customer 1</td>\n",
       "      <td>Address 1</td>\n",
       "      <td>11111111</td>\n",
       "      <td>2000-10-10</td>\n",
       "      <td>F</td>\n",
       "    </tr>\n",
       "    <tr>\n",
       "      <th>1</th>\n",
       "      <td>2</td>\n",
       "      <td>Customer 2</td>\n",
       "      <td>Address 2</td>\n",
       "      <td>22222222</td>\n",
       "      <td>2015-01-12</td>\n",
       "      <td>M</td>\n",
       "    </tr>\n",
       "    <tr>\n",
       "      <th>2</th>\n",
       "      <td>3</td>\n",
       "      <td>Customer 3</td>\n",
       "      <td>Address 3</td>\n",
       "      <td>33333333</td>\n",
       "      <td>2014-01-10</td>\n",
       "      <td>F</td>\n",
       "    </tr>\n",
       "    <tr>\n",
       "      <th>3</th>\n",
       "      <td>4</td>\n",
       "      <td>Customer 3</td>\n",
       "      <td>Address 4</td>\n",
       "      <td>44444444</td>\n",
       "      <td>2011-01-10</td>\n",
       "      <td>F</td>\n",
       "    </tr>\n",
       "  </tbody>\n",
       "</table>\n",
       "</div>"
      ],
      "text/plain": [
       "   idCustomer        name     addess     phone   birthday gender\n",
       "0           1  Customer 1  Address 1  11111111 2000-10-10      F\n",
       "1           2  Customer 2  Address 2  22222222 2015-01-12      M\n",
       "2           3  Customer 3  Address 3  33333333 2014-01-10      F\n",
       "3           4  Customer 3  Address 4  44444444 2011-01-10      F"
      ]
     },
     "execution_count": 11,
     "metadata": {},
     "output_type": "execute_result"
    }
   ],
   "source": [
    "df_customer = pd.read_sql_query('select * from \"Customer\"',con=engine)\n",
    "df_customer"
   ]
  },
  {
   "cell_type": "code",
   "execution_count": 2,
   "metadata": {
    "collapsed": false
   },
   "outputs": [
    {
     "ename": "NameError",
     "evalue": "name 'pd' is not defined",
     "output_type": "error",
     "traceback": [
      "\u001b[0;31m---------------------------------------------------------------------------\u001b[0m",
      "\u001b[0;31mNameError\u001b[0m                                 Traceback (most recent call last)",
      "\u001b[0;32m<ipython-input-2-f0154a6ca5c0>\u001b[0m in \u001b[0;36m<module>\u001b[0;34m()\u001b[0m\n\u001b[0;32m----> 1\u001b[0;31m \u001b[0mnew_df\u001b[0m \u001b[0;34m=\u001b[0m \u001b[0mpd\u001b[0m\u001b[0;34m.\u001b[0m\u001b[0mDataFrame\u001b[0m\u001b[0;34m(\u001b[0m\u001b[0mdata\u001b[0m\u001b[0;34m,\u001b[0m \u001b[0mcolumns\u001b[0m\u001b[0;34m=\u001b[0m\u001b[0mdf_customer\u001b[0m\u001b[0;34m.\u001b[0m\u001b[0mcolumns\u001b[0m\u001b[0;34m)\u001b[0m\u001b[0;34m\u001b[0m\u001b[0m\n\u001b[0m",
      "\u001b[0;31mNameError\u001b[0m: name 'pd' is not defined"
     ]
    }
   ],
   "source": [
    "new_df = pd.DataFrame(data, columns=df_customer.columns)"
   ]
  },
  {
   "cell_type": "code",
   "execution_count": 1,
   "metadata": {
    "collapsed": false
   },
   "outputs": [
    {
     "ename": "NameError",
     "evalue": "name 'new_df' is not defined",
     "output_type": "error",
     "traceback": [
      "\u001b[0;31m---------------------------------------------------------------------------\u001b[0m",
      "\u001b[0;31mNameError\u001b[0m                                 Traceback (most recent call last)",
      "\u001b[0;32m<ipython-input-1-6873a1f7c086>\u001b[0m in \u001b[0;36m<module>\u001b[0;34m()\u001b[0m\n\u001b[0;32m----> 1\u001b[0;31m \u001b[0mnew_df\u001b[0m\u001b[0;34m.\u001b[0m\u001b[0mto_sql\u001b[0m\u001b[0;34m(\u001b[0m\u001b[0;34m'Customer'\u001b[0m\u001b[0;34m,\u001b[0m \u001b[0mengine\u001b[0m\u001b[0;34m,\u001b[0m \u001b[0mif_exists\u001b[0m\u001b[0;34m=\u001b[0m\u001b[0;34m'append'\u001b[0m\u001b[0;34m,\u001b[0m \u001b[0mindex\u001b[0m\u001b[0;34m=\u001b[0m\u001b[0mNone\u001b[0m\u001b[0;34m,\u001b[0m \u001b[0mchunksize\u001b[0m\u001b[0;34m=\u001b[0m\u001b[0mNone\u001b[0m\u001b[0;34m)\u001b[0m\u001b[0;34m\u001b[0m\u001b[0m\n\u001b[0m",
      "\u001b[0;31mNameError\u001b[0m: name 'new_df' is not defined"
     ]
    }
   ],
   "source": [
    "new_df.to_sql('Customer', engine, if_exists='append', index=None, chunksize=None)"
   ]
  },
  {
   "cell_type": "code",
   "execution_count": 8,
   "metadata": {
    "collapsed": false
   },
   "outputs": [
    {
     "name": "stdout",
     "output_type": "stream",
     "text": [
      "<class 'pandas.core.frame.DataFrame'>\n",
      "Int64Index: 4 entries, 0 to 3\n",
      "Data columns (total 6 columns):\n",
      "idCustomer    4 non-null int64\n",
      "name          4 non-null object\n",
      "addess        4 non-null object\n",
      "phone         4 non-null object\n",
      "birthday      4 non-null datetime64[ns]\n",
      "gender        4 non-null object\n",
      "dtypes: datetime64[ns](1), int64(1), object(4)\n",
      "memory usage: 224.0+ bytes\n"
     ]
    }
   ],
   "source": [
    "df_customer.info()"
   ]
  },
  {
   "cell_type": "markdown",
   "metadata": {},
   "source": [
    "#### Creo un JSON con los datos"
   ]
  },
  {
   "cell_type": "code",
   "execution_count": 27,
   "metadata": {
    "collapsed": false
   },
   "outputs": [],
   "source": [
    "json_customer = df_customer.to_json('customer.json',date_unit='ns')\n",
    "csv_customer = df_customer.to_csv('customer.csv', index=None)\n",
    "json_customer"
   ]
  },
  {
   "cell_type": "code",
   "execution_count": 5,
   "metadata": {
    "collapsed": false
   },
   "outputs": [
    {
     "name": "stdout",
     "output_type": "stream",
     "text": [
      "DBs and Pandas.ipynb\r\n",
      "DM sobre RS y SW.ipynb\r\n",
      "Machine Learning with Scikit-learn.ipynb\r\n",
      "Starting with pandas.ipynb\r\n",
      "Starting with plots.ipynb\r\n",
      "customer.csv\r\n",
      "customer.json\r\n",
      "\u001b[36mdata\u001b[m\u001b[m/\r\n"
     ]
    }
   ],
   "source": [
    "ls"
   ]
  },
  {
   "cell_type": "markdown",
   "metadata": {},
   "source": [
    "#### Hacer la query especificando el \"engine\" que se desea usar"
   ]
  },
  {
   "cell_type": "code",
   "execution_count": 6,
   "metadata": {
    "collapsed": false
   },
   "outputs": [
    {
     "data": {
      "text/html": [
       "<div>\n",
       "<table border=\"1\" class=\"dataframe\">\n",
       "  <thead>\n",
       "    <tr style=\"text-align: right;\">\n",
       "      <th></th>\n",
       "      <th>idCustomer</th>\n",
       "      <th>name</th>\n",
       "      <th>addess</th>\n",
       "      <th>phone</th>\n",
       "      <th>birthday</th>\n",
       "      <th>gender</th>\n",
       "    </tr>\n",
       "  </thead>\n",
       "  <tbody>\n",
       "    <tr>\n",
       "      <th>0</th>\n",
       "      <td>1</td>\n",
       "      <td>Customer 1</td>\n",
       "      <td>Address 1</td>\n",
       "      <td>11111111</td>\n",
       "      <td>2000-10-10</td>\n",
       "      <td>F</td>\n",
       "    </tr>\n",
       "    <tr>\n",
       "      <th>1</th>\n",
       "      <td>2</td>\n",
       "      <td>Customer 2</td>\n",
       "      <td>Address 2</td>\n",
       "      <td>22222222</td>\n",
       "      <td>2015-01-12</td>\n",
       "      <td>M</td>\n",
       "    </tr>\n",
       "    <tr>\n",
       "      <th>2</th>\n",
       "      <td>3</td>\n",
       "      <td>Customer 3</td>\n",
       "      <td>Address 3</td>\n",
       "      <td>33333333</td>\n",
       "      <td>2014-01-10</td>\n",
       "      <td>F</td>\n",
       "    </tr>\n",
       "    <tr>\n",
       "      <th>3</th>\n",
       "      <td>4</td>\n",
       "      <td>Customer 3</td>\n",
       "      <td>Address 4</td>\n",
       "      <td>44444444</td>\n",
       "      <td>2011-01-10</td>\n",
       "      <td>F</td>\n",
       "    </tr>\n",
       "  </tbody>\n",
       "</table>\n",
       "</div>"
      ],
      "text/plain": [
       "   idCustomer        name     addess     phone   birthday gender\n",
       "0           1  Customer 1  Address 1  11111111 2000-10-10      F\n",
       "1           2  Customer 2  Address 2  22222222 2015-01-12      M\n",
       "2           3  Customer 3  Address 3  33333333 2014-01-10      F\n",
       "3           4  Customer 3  Address 4  44444444 2011-01-10      F"
      ]
     },
     "execution_count": 6,
     "metadata": {},
     "output_type": "execute_result"
    }
   ],
   "source": [
    "df = pd.read_sql_query('select * from \"Customer\"',con=engine)\n",
    "df"
   ]
  },
  {
   "cell_type": "markdown",
   "metadata": {},
   "source": [
    "#### Hacer la query especificando el \"engine\" que se desea usar"
   ]
  },
  {
   "cell_type": "code",
   "execution_count": 7,
   "metadata": {
    "collapsed": false
   },
   "outputs": [
    {
     "name": "stdout",
     "output_type": "stream",
     "text": [
      "<class 'pandas.core.frame.DataFrame'>\n",
      "Int64Index: 4 entries, 0 to 3\n",
      "Data columns (total 6 columns):\n",
      "idCustomer    4 non-null int64\n",
      "name          4 non-null object\n",
      "addess        4 non-null object\n",
      "phone         4 non-null object\n",
      "birthday      4 non-null datetime64[ns]\n",
      "gender        4 non-null object\n",
      "dtypes: datetime64[ns](1), int64(1), object(4)\n",
      "memory usage: 224.0+ bytes\n"
     ]
    }
   ],
   "source": [
    "df.info()"
   ]
  },
  {
   "cell_type": "code",
   "execution_count": 8,
   "metadata": {
    "collapsed": false
   },
   "outputs": [
    {
     "data": {
      "text/html": [
       "<div>\n",
       "<table border=\"1\" class=\"dataframe\">\n",
       "  <thead>\n",
       "    <tr style=\"text-align: right;\">\n",
       "      <th></th>\n",
       "      <th>idCustomer</th>\n",
       "    </tr>\n",
       "  </thead>\n",
       "  <tbody>\n",
       "    <tr>\n",
       "      <th>count</th>\n",
       "      <td>4.000000</td>\n",
       "    </tr>\n",
       "    <tr>\n",
       "      <th>mean</th>\n",
       "      <td>2.500000</td>\n",
       "    </tr>\n",
       "    <tr>\n",
       "      <th>std</th>\n",
       "      <td>1.290994</td>\n",
       "    </tr>\n",
       "    <tr>\n",
       "      <th>min</th>\n",
       "      <td>1.000000</td>\n",
       "    </tr>\n",
       "    <tr>\n",
       "      <th>25%</th>\n",
       "      <td>1.750000</td>\n",
       "    </tr>\n",
       "    <tr>\n",
       "      <th>50%</th>\n",
       "      <td>2.500000</td>\n",
       "    </tr>\n",
       "    <tr>\n",
       "      <th>75%</th>\n",
       "      <td>3.250000</td>\n",
       "    </tr>\n",
       "    <tr>\n",
       "      <th>max</th>\n",
       "      <td>4.000000</td>\n",
       "    </tr>\n",
       "  </tbody>\n",
       "</table>\n",
       "</div>"
      ],
      "text/plain": [
       "       idCustomer\n",
       "count    4.000000\n",
       "mean     2.500000\n",
       "std      1.290994\n",
       "min      1.000000\n",
       "25%      1.750000\n",
       "50%      2.500000\n",
       "75%      3.250000\n",
       "max      4.000000"
      ]
     },
     "execution_count": 8,
     "metadata": {},
     "output_type": "execute_result"
    }
   ],
   "source": [
    "df.describe()"
   ]
  },
  {
   "cell_type": "code",
   "execution_count": null,
   "metadata": {
    "collapsed": false
   },
   "outputs": [],
   "source": [
    "df"
   ]
  },
  {
   "cell_type": "markdown",
   "metadata": {},
   "source": [
    "Link a [Pandas NB](Starting%20with%20pandas.ipynb) para ver join, merge, append, etc"
   ]
  },
  {
   "cell_type": "markdown",
   "metadata": {},
   "source": [
    "#### Agregando un nuevo registro a nuestra tabla \"Customer\" con pandas"
   ]
  },
  {
   "cell_type": "code",
   "execution_count": null,
   "metadata": {
    "collapsed": false
   },
   "outputs": [],
   "source": [
    "new_df = pd.DataFrame([[4, pd.datetime(2011, 1, 10), 'F']], columns=df.columns)\n",
    "new_df"
   ]
  },
  {
   "cell_type": "code",
   "execution_count": null,
   "metadata": {
    "collapsed": false
   },
   "outputs": [],
   "source": [
    "new_df.to_sql('Customer', engine, if_exists='append', index=None)"
   ]
  },
  {
   "cell_type": "markdown",
   "metadata": {},
   "source": [
    "#### Agregando una nueva tabla a nuestra db desde pandas"
   ]
  },
  {
   "cell_type": "code",
   "execution_count": null,
   "metadata": {
    "collapsed": false
   },
   "outputs": [],
   "source": [
    "new_table = pd.DataFrame([], columns=['WineCode', 'Type', 'Vintage'])\n",
    "new_table"
   ]
  },
  {
   "cell_type": "code",
   "execution_count": null,
   "metadata": {
    "collapsed": true
   },
   "outputs": [],
   "source": [
    "new_table.to_sql('Wine', engine, index=None)"
   ]
  },
  {
   "cell_type": "markdown",
   "metadata": {},
   "source": [
    "#### Ahora hagamos lo mismo con sqlalchemy"
   ]
  },
  {
   "cell_type": "code",
   "execution_count": null,
   "metadata": {
    "collapsed": true
   },
   "outputs": [],
   "source": [
    "from sqlalchemy import MetaData, types\n",
    "from sqlalchemy import Table, Column"
   ]
  },
  {
   "cell_type": "code",
   "execution_count": null,
   "metadata": {
    "collapsed": true
   },
   "outputs": [],
   "source": [
    "metadata = MetaData()"
   ]
  },
  {
   "cell_type": "code",
   "execution_count": null,
   "metadata": {
    "collapsed": false
   },
   "outputs": [],
   "source": [
    "time = Table('Time', metadata,\n",
    "    Column('TimeCode', types.Integer, primary_key=True),\n",
    "    Column('Date', types.DateTime, nullable=False),\n",
    " )"
   ]
  },
  {
   "cell_type": "code",
   "execution_count": null,
   "metadata": {
    "collapsed": true
   },
   "outputs": [],
   "source": [
    "metadata.create_all(engine)"
   ]
  },
  {
   "cell_type": "markdown",
   "metadata": {},
   "source": [
    "### Agregando elementos a Wine con pandas"
   ]
  },
  {
   "cell_type": "code",
   "execution_count": null,
   "metadata": {
    "collapsed": true
   },
   "outputs": [],
   "source": [
    "data = [[1, 'White', 2000],\n",
    "        [2, 'red', 2015],\n",
    "        [3, 'rose', 2014]]"
   ]
  },
  {
   "cell_type": "code",
   "execution_count": null,
   "metadata": {
    "collapsed": true
   },
   "outputs": [],
   "source": [
    "new_df = pd.DataFrame(data, columns=df_wine.columns)"
   ]
  },
  {
   "cell_type": "code",
   "execution_count": null,
   "metadata": {
    "collapsed": true
   },
   "outputs": [],
   "source": [
    "new_df.to_sql('Wine', engine, if_exists='append', index=None)"
   ]
  },
  {
   "cell_type": "code",
   "execution_count": null,
   "metadata": {
    "collapsed": false
   },
   "outputs": [],
   "source": [
    "df_wine = pd.read_sql_query('select * from \"Wine\"',con=engine)\n",
    "df_wine"
   ]
  },
  {
   "cell_type": "markdown",
   "metadata": {
    "collapsed": true
   },
   "source": [
    "#### Hacemos un append de un CSV"
   ]
  },
  {
   "cell_type": "code",
   "execution_count": null,
   "metadata": {
    "collapsed": true
   },
   "outputs": [],
   "source": [
    "pd.read_json?"
   ]
  },
  {
   "cell_type": "code",
   "execution_count": 32,
   "metadata": {
    "collapsed": false
   },
   "outputs": [
    {
     "name": "stdout",
     "output_type": "stream",
     "text": [
      "<class 'pandas.core.frame.DataFrame'>\n",
      "Float64Index: 4 entries, 0.0 to 3.0\n",
      "Data columns (total 6 columns):\n",
      "addess        4 non-null object\n",
      "birthday      4 non-null int64\n",
      "gender        4 non-null object\n",
      "idCustomer    4 non-null int64\n",
      "name          4 non-null object\n",
      "phone         4 non-null int64\n",
      "dtypes: int64(3), object(3)\n",
      "memory usage: 224.0+ bytes\n"
     ]
    }
   ],
   "source": [
    "json = pd.read_json('./customer.json')\n",
    "json.info()"
   ]
  },
  {
   "cell_type": "markdown",
   "metadata": {},
   "source": [
    "#### Convierto la fecha"
   ]
  },
  {
   "cell_type": "code",
   "execution_count": 33,
   "metadata": {
    "collapsed": false
   },
   "outputs": [
    {
     "data": {
      "text/plain": [
       "0   2000-10-10\n",
       "1   2015-01-12\n",
       "2   2014-01-10\n",
       "3   2011-01-10\n",
       "Name: birthday, dtype: datetime64[ns]"
      ]
     },
     "execution_count": 33,
     "metadata": {},
     "output_type": "execute_result"
    }
   ],
   "source": [
    "pd.to_datetime(json['birthday'], unit='ns')"
   ]
  },
  {
   "cell_type": "code",
   "execution_count": 34,
   "metadata": {
    "collapsed": false
   },
   "outputs": [
    {
     "data": {
      "text/plain": [
       "0     971136000000000000\n",
       "1    1421020800000000000\n",
       "2    1389312000000000000\n",
       "3    1294617600000000000\n",
       "Name: birthday, dtype: int64"
      ]
     },
     "execution_count": 34,
     "metadata": {},
     "output_type": "execute_result"
    }
   ],
   "source": [
    "json['birthday']"
   ]
  },
  {
   "cell_type": "code",
   "execution_count": 36,
   "metadata": {
    "collapsed": false
   },
   "outputs": [
    {
     "data": {
      "text/html": [
       "<div>\n",
       "<table border=\"1\" class=\"dataframe\">\n",
       "  <thead>\n",
       "    <tr style=\"text-align: right;\">\n",
       "      <th></th>\n",
       "      <th>addess</th>\n",
       "      <th>birthday</th>\n",
       "      <th>gender</th>\n",
       "      <th>idCustomer</th>\n",
       "      <th>name</th>\n",
       "      <th>phone</th>\n",
       "    </tr>\n",
       "  </thead>\n",
       "  <tbody>\n",
       "    <tr>\n",
       "      <th>0</th>\n",
       "      <td>Address 1</td>\n",
       "      <td>2000-10-10</td>\n",
       "      <td>F</td>\n",
       "      <td>1</td>\n",
       "      <td>Customer 1</td>\n",
       "      <td>11111111</td>\n",
       "    </tr>\n",
       "    <tr>\n",
       "      <th>1</th>\n",
       "      <td>Address 2</td>\n",
       "      <td>2015-01-12</td>\n",
       "      <td>M</td>\n",
       "      <td>2</td>\n",
       "      <td>Customer 2</td>\n",
       "      <td>22222222</td>\n",
       "    </tr>\n",
       "    <tr>\n",
       "      <th>2</th>\n",
       "      <td>Address 3</td>\n",
       "      <td>2014-01-10</td>\n",
       "      <td>F</td>\n",
       "      <td>3</td>\n",
       "      <td>Customer 3</td>\n",
       "      <td>33333333</td>\n",
       "    </tr>\n",
       "    <tr>\n",
       "      <th>3</th>\n",
       "      <td>Address 4</td>\n",
       "      <td>2011-01-10</td>\n",
       "      <td>F</td>\n",
       "      <td>4</td>\n",
       "      <td>Customer 3</td>\n",
       "      <td>44444444</td>\n",
       "    </tr>\n",
       "  </tbody>\n",
       "</table>\n",
       "</div>"
      ],
      "text/plain": [
       "      addess   birthday gender  idCustomer        name     phone\n",
       "0  Address 1 2000-10-10      F           1  Customer 1  11111111\n",
       "1  Address 2 2015-01-12      M           2  Customer 2  22222222\n",
       "2  Address 3 2014-01-10      F           3  Customer 3  33333333\n",
       "3  Address 4 2011-01-10      F           4  Customer 3  44444444"
      ]
     },
     "execution_count": 36,
     "metadata": {},
     "output_type": "execute_result"
    }
   ],
   "source": [
    "json['birthday'] = pd.to_datetime(json['birthday'], unit='ns')\n",
    "json\n"
   ]
  },
  {
   "cell_type": "code",
   "execution_count": 13,
   "metadata": {
    "collapsed": false
   },
   "outputs": [
    {
     "data": {
      "text/plain": [
       "'0.16.2'"
      ]
     },
     "execution_count": 13,
     "metadata": {},
     "output_type": "execute_result"
    }
   ],
   "source": [
    "pd.__version__"
   ]
  },
  {
   "cell_type": "code",
   "execution_count": 65,
   "metadata": {
    "collapsed": false
   },
   "outputs": [
    {
     "name": "stdout",
     "output_type": "stream",
     "text": [
      "<class 'pandas.core.frame.DataFrame'>\n",
      "Int64Index: 6 entries, 0 to 5\n",
      "Data columns (total 6 columns):\n",
      "idCustomer    6 non-null int64\n",
      "name          6 non-null object\n",
      "addess        6 non-null object\n",
      "phone         6 non-null int64\n",
      "birthday      6 non-null datetime64[ns]\n",
      "gender        6 non-null object\n",
      "dtypes: datetime64[ns](1), int64(2), object(3)\n",
      "memory usage: 336.0+ bytes\n"
     ]
    }
   ],
   "source": [
    "csv = pd.read_csv('./customer.csv')\n",
    "csv['birthday'] = pd.to_datetime(csv['birthday'], unit='ns')\n",
    "csv.info()\n"
   ]
  },
  {
   "cell_type": "code",
   "execution_count": null,
   "metadata": {
    "collapsed": false
   },
   "outputs": [],
   "source": [
    "df_customer"
   ]
  },
  {
   "cell_type": "markdown",
   "metadata": {},
   "source": [
    "#### Hacemos un merge entre el JSON y CSV"
   ]
  },
  {
   "cell_type": "code",
   "execution_count": 67,
   "metadata": {
    "collapsed": false
   },
   "outputs": [
    {
     "data": {
      "text/html": [
       "<div>\n",
       "<table border=\"1\" class=\"dataframe\">\n",
       "  <thead>\n",
       "    <tr style=\"text-align: right;\">\n",
       "      <th></th>\n",
       "      <th>addess</th>\n",
       "      <th>birthday</th>\n",
       "      <th>gender</th>\n",
       "      <th>idCustomer</th>\n",
       "      <th>name</th>\n",
       "      <th>phone</th>\n",
       "    </tr>\n",
       "  </thead>\n",
       "  <tbody>\n",
       "    <tr>\n",
       "      <th>0</th>\n",
       "      <td>Address 1</td>\n",
       "      <td>2000-10-10</td>\n",
       "      <td>F</td>\n",
       "      <td>1</td>\n",
       "      <td>Customer 1</td>\n",
       "      <td>11111111</td>\n",
       "    </tr>\n",
       "    <tr>\n",
       "      <th>1</th>\n",
       "      <td>Address 2</td>\n",
       "      <td>2015-01-12</td>\n",
       "      <td>M</td>\n",
       "      <td>2</td>\n",
       "      <td>Customer 2</td>\n",
       "      <td>22222222</td>\n",
       "    </tr>\n",
       "    <tr>\n",
       "      <th>2</th>\n",
       "      <td>Address 3</td>\n",
       "      <td>2014-01-10</td>\n",
       "      <td>F</td>\n",
       "      <td>3</td>\n",
       "      <td>Customer 3</td>\n",
       "      <td>33333333</td>\n",
       "    </tr>\n",
       "    <tr>\n",
       "      <th>3</th>\n",
       "      <td>Address 4</td>\n",
       "      <td>2011-01-10</td>\n",
       "      <td>F</td>\n",
       "      <td>4</td>\n",
       "      <td>Customer 3</td>\n",
       "      <td>44444444</td>\n",
       "    </tr>\n",
       "    <tr>\n",
       "      <th>4</th>\n",
       "      <td>Address 4</td>\n",
       "      <td>2011-01-10</td>\n",
       "      <td>F</td>\n",
       "      <td>5</td>\n",
       "      <td>Customer 5</td>\n",
       "      <td>44444444</td>\n",
       "    </tr>\n",
       "    <tr>\n",
       "      <th>5</th>\n",
       "      <td>Address 4</td>\n",
       "      <td>2011-01-10</td>\n",
       "      <td>F</td>\n",
       "      <td>6</td>\n",
       "      <td>Customer 6</td>\n",
       "      <td>44444444</td>\n",
       "    </tr>\n",
       "  </tbody>\n",
       "</table>\n",
       "</div>"
      ],
      "text/plain": [
       "      addess   birthday gender  idCustomer        name     phone\n",
       "0  Address 1 2000-10-10      F           1  Customer 1  11111111\n",
       "1  Address 2 2015-01-12      M           2  Customer 2  22222222\n",
       "2  Address 3 2014-01-10      F           3  Customer 3  33333333\n",
       "3  Address 4 2011-01-10      F           4  Customer 3  44444444\n",
       "4  Address 4 2011-01-10      F           5  Customer 5  44444444\n",
       "5  Address 4 2011-01-10      F           6  Customer 6  44444444"
      ]
     },
     "execution_count": 67,
     "metadata": {},
     "output_type": "execute_result"
    }
   ],
   "source": [
    "merged = pd.merge(json, csv, how='outer')\n",
    "merged"
   ]
  },
  {
   "cell_type": "code",
   "execution_count": null,
   "metadata": {
    "collapsed": true
   },
   "outputs": [],
   "source": []
  }
 ],
 "metadata": {
  "kernelspec": {
   "display_name": "Python 2",
   "language": "python",
   "name": "python2"
  },
  "language_info": {
   "codemirror_mode": {
    "name": "ipython",
    "version": 2
   },
   "file_extension": ".py",
   "mimetype": "text/x-python",
   "name": "python",
   "nbconvert_exporter": "python",
   "pygments_lexer": "ipython2",
   "version": "2.7.10"
  }
 },
 "nbformat": 4,
 "nbformat_minor": 0
}
