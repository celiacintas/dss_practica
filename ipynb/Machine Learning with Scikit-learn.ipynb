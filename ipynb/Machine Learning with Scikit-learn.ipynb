{
 "metadata": {
  "name": ""
 },
 "nbformat": 3,
 "nbformat_minor": 0,
 "worksheets": [
  {
   "cells": [
    {
     "cell_type": "code",
     "collapsed": false,
     "input": [
      "from IPython.display import Image\n",
      "Image(url='http://1.bp.blogspot.com/-ME24ePzpzIM/UQLWTwurfXI/AAAAAAAAANw/W3EETIroA80/s1600/drop_shadows_background.png',\n",
      "      width=1000, height=1000)"
     ],
     "language": "python",
     "metadata": {},
     "outputs": [
      {
       "html": [
        "<img src=\"http://1.bp.blogspot.com/-ME24ePzpzIM/UQLWTwurfXI/AAAAAAAAANw/W3EETIroA80/s1600/drop_shadows_background.png\" width=\"1000\" height=\"1000\"/>"
       ],
       "metadata": {},
       "output_type": "pyout",
       "prompt_number": 1,
       "text": [
        "<IPython.core.display.Image at 0x38d9f50>"
       ]
      }
     ],
     "prompt_number": 1
    },
    {
     "cell_type": "heading",
     "level": 3,
     "metadata": {},
     "source": [
      "Clasificaci\u00f3n"
     ]
    },
    {
     "cell_type": "heading",
     "level": 4,
     "metadata": {},
     "source": [
      "SVM"
     ]
    },
    {
     "cell_type": "code",
     "collapsed": false,
     "input": [
      "import numpy\n",
      "from sklearn.svm import SVC\n",
      "import matplotlib.pyplot as plt\n",
      "from matplotlib.colors import ListedColormap"
     ],
     "language": "python",
     "metadata": {},
     "outputs": [
      {
       "output_type": "stream",
       "stream": "stderr",
       "text": [
        "/usr/lib/python2.7/site-packages/numpy/core/fromnumeric.py:2499: VisibleDeprecationWarning: `rank` is deprecated; use the `ndim` attribute or function instead. To find the rank of a matrix see `numpy.linalg.matrix_rank`.\n",
        "  VisibleDeprecationWarning)\n"
       ]
      }
     ],
     "prompt_number": 1
    },
    {
     "cell_type": "markdown",
     "metadata": {},
     "source": [
      "Creamos nuestro dataset y sus respectivas etiquetas para el entrenamiento"
     ]
    },
    {
     "cell_type": "code",
     "collapsed": false,
     "input": [
      "xs = np.array([[np.random.randint(i-10, i), np.random.randint(i-10, i)] for i in [10, 20] for _ in range(100)])\n",
      "y = [i for i in [1, 2] for _ in range(100)]\n",
      "print xs.shape, y"
     ],
     "language": "python",
     "metadata": {},
     "outputs": [
      {
       "output_type": "stream",
       "stream": "stdout",
       "text": [
        "(200, 2) [1, 1, 1, 1, 1, 1, 1, 1, 1, 1, 1, 1, 1, 1, 1, 1, 1, 1, 1, 1, 1, 1, 1, 1, 1, 1, 1, 1, 1, 1, 1, 1, 1, 1, 1, 1, 1, 1, 1, 1, 1, 1, 1, 1, 1, 1, 1, 1, 1, 1, 1, 1, 1, 1, 1, 1, 1, 1, 1, 1, 1, 1, 1, 1, 1, 1, 1, 1, 1, 1, 1, 1, 1, 1, 1, 1, 1, 1, 1, 1, 1, 1, 1, 1, 1, 1, 1, 1, 1, 1, 1, 1, 1, 1, 1, 1, 1, 1, 1, 1, 2, 2, 2, 2, 2, 2, 2, 2, 2, 2, 2, 2, 2, 2, 2, 2, 2, 2, 2, 2, 2, 2, 2, 2, 2, 2, 2, 2, 2, 2, 2, 2, 2, 2, 2, 2, 2, 2, 2, 2, 2, 2, 2, 2, 2, 2, 2, 2, 2, 2, 2, 2, 2, 2, 2, 2, 2, 2, 2, 2, 2, 2, 2, 2, 2, 2, 2, 2, 2, 2, 2, 2, 2, 2, 2, 2, 2, 2, 2, 2, 2, 2, 2, 2, 2, 2, 2, 2, 2, 2, 2, 2, 2, 2, 2, 2, 2, 2, 2, 2]\n"
       ]
      }
     ],
     "prompt_number": 2
    },
    {
     "cell_type": "markdown",
     "metadata": {},
     "source": [
      "Entrenamos ..."
     ]
    },
    {
     "cell_type": "code",
     "collapsed": false,
     "input": [
      "sv = SVC(kernel='linear') #kernel='rbf'\n"
     ],
     "language": "python",
     "metadata": {},
     "outputs": [],
     "prompt_number": 3
    },
    {
     "cell_type": "code",
     "collapsed": false,
     "input": [
      "sv.fit(xs, y)"
     ],
     "language": "python",
     "metadata": {},
     "outputs": [
      {
       "metadata": {},
       "output_type": "pyout",
       "prompt_number": 4,
       "text": [
        "SVC(C=1.0, cache_size=200, class_weight=None, coef0=0.0, degree=3, gamma=0.0,\n",
        "  kernel='linear', max_iter=-1, probability=False, random_state=None,\n",
        "  shrinking=True, tol=0.001, verbose=False)"
       ]
      }
     ],
     "prompt_number": 4
    },
    {
     "cell_type": "markdown",
     "metadata": {},
     "source": [
      "Y consultamos la ubicaci\u00f3n de un nuevo individuo .."
     ]
    },
    {
     "cell_type": "code",
     "collapsed": false,
     "input": [
      "sv.predict([17,5])"
     ],
     "language": "python",
     "metadata": {},
     "outputs": [
      {
       "metadata": {},
       "output_type": "pyout",
       "prompt_number": 5,
       "text": [
        "array([2])"
       ]
      }
     ],
     "prompt_number": 5
    },
    {
     "cell_type": "markdown",
     "metadata": {},
     "source": [
      "Obtenemos la funci\u00f3n de decisi\u00f3n para observar la clasificaci\u00f3n obtenida"
     ]
    },
    {
     "cell_type": "code",
     "collapsed": false,
     "input": [
      "XX_svm, YY_svm = np.mgrid[0:20:1000j, 0:20:1000j]\n",
      "Z_svm = sv.decision_function(np.c_[XX_svm.ravel(), YY_svm.ravel()])\n",
      "Z_svm = Z_svm.reshape(XX_svm.shape)\n",
      "print Z_svm"
     ],
     "language": "python",
     "metadata": {},
     "outputs": [
      {
       "output_type": "stream",
       "stream": "stdout",
       "text": [
        "[[ -9.5         -9.48998999  -9.47997998 ...,   0.47997998   0.48998999\n",
        "    0.5       ]\n",
        " [ -9.48998999  -9.47997998  -9.46996997 ...,   0.48998999   0.5\n",
        "    0.51001001]\n",
        " [ -9.47997998  -9.46996997  -9.45995996 ...,   0.5          0.51001001\n",
        "    0.52002002]\n",
        " ..., \n",
        " [  0.47997998   0.48998999   0.5        ...,  10.45995996  10.46996997\n",
        "   10.47997998]\n",
        " [  0.48998999   0.5          0.51001001 ...,  10.46996997  10.47997998\n",
        "   10.48998999]\n",
        " [  0.5          0.51001001   0.52002002 ...,  10.47997998  10.48998999\n",
        "   10.5       ]]\n"
       ]
      }
     ],
     "prompt_number": 6
    },
    {
     "cell_type": "code",
     "collapsed": false,
     "input": [
      "plt.plot(xs[:100, 0],xs[:100, 1],'ro')\n",
      "plt.plot(xs[100:, 0],xs[100:, 1],'go')\n",
      "\n",
      "plt.contour(XX_svm, YY_svm, Z_svm, colors=['k', 'k', 'k'], linestyles=['--', '-', '--'], levels=[-.5, 0, .5])\n",
      "plt.pcolormesh(XX_svm, YY_svm, Z_svm > 0,  cmap=plt.cm.Paired)\n",
      "plt.xlim(0, 20)\n",
      "plt.ylim(0, 20)"
     ],
     "language": "python",
     "metadata": {},
     "outputs": [
      {
       "metadata": {},
       "output_type": "pyout",
       "prompt_number": 7,
       "text": [
        "(0, 20)"
       ]
      },
      {
       "metadata": {},
       "output_type": "display_data",
       "png": "[encoded data removed]",
       "text": [
        "<matplotlib.figure.Figure at 0x4caf1d0>"
       ]
      }
     ],
     "prompt_number": 7
    },
    {
     "cell_type": "markdown",
     "metadata": {},
     "source": [
      "Ahora cambie el tipo de kernel de la SVM y vuelva a graficar, que cambio?"
     ]
    },
    {
     "cell_type": "heading",
     "level": 4,
     "metadata": {},
     "source": [
      "K-neighbors"
     ]
    },
    {
     "cell_type": "code",
     "collapsed": false,
     "input": [
      "from sklearn.neighbors import KNeighborsClassifier, NearestCentroid"
     ],
     "language": "python",
     "metadata": {},
     "outputs": [],
     "prompt_number": 8
    },
    {
     "cell_type": "code",
     "collapsed": false,
     "input": [
      "kn = KNeighborsClassifier(n_neighbors=6, weights='uniform')"
     ],
     "language": "python",
     "metadata": {},
     "outputs": [],
     "prompt_number": 9
    },
    {
     "cell_type": "code",
     "collapsed": false,
     "input": [
      "kn.fit(xs, y)"
     ],
     "language": "python",
     "metadata": {},
     "outputs": [
      {
       "metadata": {},
       "output_type": "pyout",
       "prompt_number": 10,
       "text": [
        "KNeighborsClassifier(algorithm='auto', leaf_size=30, metric='minkowski',\n",
        "           n_neighbors=6, p=2, weights='uniform')"
       ]
      }
     ],
     "prompt_number": 10
    },
    {
     "cell_type": "code",
     "collapsed": false,
     "input": [
      "XX, YY = np.mgrid[0:20:1000j, 0:20:1000j]\n",
      "Z = kn.predict(np.c_[XX.ravel(), YY.ravel()])\n",
      "Z = Z.reshape(XX.shape)"
     ],
     "language": "python",
     "metadata": {},
     "outputs": [],
     "prompt_number": 11
    },
    {
     "cell_type": "code",
     "collapsed": false,
     "input": [
      "plt.plot(xs[:100, 0],xs[:100, 1],'ro')\n",
      "plt.plot(xs[100:, 0],xs[100:, 1],'go')\n",
      "plt.pcolormesh(XX, YY, Z,  cmap=plt.cm.Paired)\n",
      "plt.xlim(0, 20)\n",
      "plt.ylim(0, 20)\n"
     ],
     "language": "python",
     "metadata": {},
     "outputs": [
      {
       "metadata": {},
       "output_type": "pyout",
       "prompt_number": 12,
       "text": [
        "(0, 20)"
       ]
      },
      {
       "metadata": {},
       "output_type": "display_data",
       "png": "[encoded data removed]",
       "text": [
        "<matplotlib.figure.Figure at 0x4d74b50>"
       ]
      }
     ],
     "prompt_number": 12
    },
    {
     "cell_type": "heading",
     "level": 3,
     "metadata": {},
     "source": [
      "Clustering"
     ]
    },
    {
     "cell_type": "heading",
     "level": 4,
     "metadata": {},
     "source": [
      "K-Means"
     ]
    },
    {
     "cell_type": "code",
     "collapsed": false,
     "input": [
      "from sklearn.cluster import KMeans, MeanShift, estimate_bandwidth\n",
      "from sklearn.datasets.samples_generator import make_blobs"
     ],
     "language": "python",
     "metadata": {},
     "outputs": [],
     "prompt_number": 13
    },
    {
     "cell_type": "code",
     "collapsed": false,
     "input": [
      "km = KMeans(n_clusters=10, n_jobs=2) # Cuantas clases queremos? cambiar n_clusters"
     ],
     "language": "python",
     "metadata": {},
     "outputs": [],
     "prompt_number": 14
    },
    {
     "cell_type": "code",
     "collapsed": false,
     "input": [
      "km.fit(xs, y)"
     ],
     "language": "python",
     "metadata": {},
     "outputs": [
      {
       "metadata": {},
       "output_type": "pyout",
       "prompt_number": 15,
       "text": [
        "KMeans(copy_x=True, init='k-means++', max_iter=300, n_clusters=10, n_init=10,\n",
        "    n_jobs=2, precompute_distances=True, random_state=None, tol=0.0001,\n",
        "    verbose=0)"
       ]
      }
     ],
     "prompt_number": 15
    },
    {
     "cell_type": "code",
     "collapsed": false,
     "input": [
      "XX_km, YY_km = np.mgrid[0:20:1000j, 0:20:1000j]\n",
      "Z_km = km.predict(np.c_[XX_km.ravel(), YY_km.ravel()])\n",
      "Z_km = Z_km.reshape(XX_km.shape)\n",
      "print Z_km"
     ],
     "language": "python",
     "metadata": {},
     "outputs": [
      {
       "output_type": "stream",
       "stream": "stdout",
       "text": [
        "[[5 5 5 ..., 3 3 3]\n",
        " [5 5 5 ..., 3 3 3]\n",
        " [5 5 5 ..., 3 3 3]\n",
        " ..., \n",
        " [0 0 0 ..., 6 6 6]\n",
        " [0 0 0 ..., 6 6 6]\n",
        " [0 0 0 ..., 6 6 6]]\n"
       ]
      }
     ],
     "prompt_number": 16
    },
    {
     "cell_type": "code",
     "collapsed": false,
     "input": [
      "plt.plot(xs[:100, 0],xs[:100, 1],'ro')\n",
      "plt.plot(xs[100:, 0],xs[100:, 1],'go')\n",
      "plt.pcolormesh(XX_km, YY_km, Z_km,  cmap=plt.cm.Paired)\n",
      "plt.xlim(0, 20)\n",
      "plt.ylim(0, 20)"
     ],
     "language": "python",
     "metadata": {},
     "outputs": [
      {
       "metadata": {},
       "output_type": "pyout",
       "prompt_number": 17,
       "text": [
        "(0, 20)"
       ]
      },
      {
       "metadata": {},
       "output_type": "display_data",
       "png": "[encoded data removed]",
       "text": [
        "<matplotlib.figure.Figure at 0x4e54dd0>"
       ]
      }
     ],
     "prompt_number": 17
    },
    {
     "cell_type": "heading",
     "level": 4,
     "metadata": {},
     "source": [
      "MeanShift"
     ]
    },
    {
     "cell_type": "code",
     "collapsed": false,
     "input": [
      "xs_circle, _ = make_blobs(n_samples=1000, centers=[[3,3], [2,2], [1,1]], cluster_std=0.4)"
     ],
     "language": "python",
     "metadata": {},
     "outputs": [],
     "prompt_number": 18
    },
    {
     "cell_type": "code",
     "collapsed": false,
     "input": [
      "bandwidth = estimate_bandwidth(xs_circle, quantile=0.2, n_samples=1000)\n",
      "ms = MeanShift(bandwidth=bandwidth, bin_seeding=True)"
     ],
     "language": "python",
     "metadata": {},
     "outputs": [],
     "prompt_number": 19
    },
    {
     "cell_type": "code",
     "collapsed": false,
     "input": [
      "ms.fit(xs_circle)"
     ],
     "language": "python",
     "metadata": {},
     "outputs": [
      {
       "metadata": {},
       "output_type": "pyout",
       "prompt_number": 20,
       "text": [
        "MeanShift(bandwidth=0.70798162587847879, bin_seeding=True, cluster_all=True,\n",
        "     min_bin_freq=1, seeds=None)"
       ]
      }
     ],
     "prompt_number": 20
    },
    {
     "cell_type": "code",
     "collapsed": false,
     "input": [
      "cluster_centers = ms.cluster_centers_\n",
      "labels = ms.labels_\n",
      "print labels.shape\n",
      "print cluster_centers\n",
      "\n"
     ],
     "language": "python",
     "metadata": {},
     "outputs": [
      {
       "output_type": "stream",
       "stream": "stdout",
       "text": [
        "(1000,)\n",
        "[[ 2.1063621   2.08495504]\n",
        " [ 0.99266406  0.9702425 ]\n",
        " [ 3.01717131  2.95103879]]\n"
       ]
      }
     ],
     "prompt_number": 21
    },
    {
     "cell_type": "code",
     "collapsed": false,
     "input": [
      "colors = ['ro', 'go', 'yo']\n",
      "map(lambda p: plt.plot(p[0][0], p[0][1], colors[p[1]]), zip(xs_circle, labels))\n",
      "map(lambda c: plt.plot(c[0], c[1], 'bo', markeredgecolor='k', markersize=14), cluster_centers)\n",
      "\n",
      "print "
     ],
     "language": "python",
     "metadata": {},
     "outputs": [
      {
       "output_type": "stream",
       "stream": "stdout",
       "text": [
        "\n"
       ]
      },
      {
       "metadata": {},
       "output_type": "display_data",
       "png": "[encoded data removed]",
       "text": [
        "<matplotlib.figure.Figure at 0x4d4f110>"
       ]
      }
     ],
     "prompt_number": 22
    }
   ],
   "metadata": {}
  }
 ]
}