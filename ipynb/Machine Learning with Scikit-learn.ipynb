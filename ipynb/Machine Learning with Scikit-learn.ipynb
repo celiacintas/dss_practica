{
 "metadata": {
  "name": ""
 },
 "nbformat": 3,
 "nbformat_minor": 0,
 "worksheets": [
  {
   "cells": [
    {
     "cell_type": "code",
     "collapsed": false,
     "input": [
      "from IPython.display import Image\n",
      "Image(url='http://1.bp.blogspot.com/-ME24ePzpzIM/UQLWTwurfXI/AAAAAAAAANw/W3EETIroA80/s1600/drop_shadows_background.png',\n",
      "      width=1000, height=1000)"
     ],
     "language": "python",
     "metadata": {},
     "outputs": [
      {
       "html": [
        "<img src=\"http://1.bp.blogspot.com/-ME24ePzpzIM/UQLWTwurfXI/AAAAAAAAANw/W3EETIroA80/s1600/drop_shadows_background.png\" width=\"1000\" height=\"1000\"/>"
       ],
       "metadata": {},
       "output_type": "pyout",
       "prompt_number": 418,
       "text": [
        "<IPython.core.display.Image at 0xc098590>"
       ]
      }
     ],
     "prompt_number": 418
    },
    {
     "cell_type": "heading",
     "level": 3,
     "metadata": {},
     "source": [
      "Clasificaci\u00f3n"
     ]
    },
    {
     "cell_type": "heading",
     "level": 4,
     "metadata": {},
     "source": [
      "SVM"
     ]
    },
    {
     "cell_type": "code",
     "collapsed": false,
     "input": [
      "import numpy\n",
      "from sklearn.svm import SVC\n",
      "import matplotlib.pyplot as plt\n",
      "from matplotlib.colors import ListedColormap"
     ],
     "language": "python",
     "metadata": {},
     "outputs": [],
     "prompt_number": 193
    },
    {
     "cell_type": "markdown",
     "metadata": {},
     "source": [
      "Creamos nuestro dataset y sus respectivas etiquetas para el entrenamiento"
     ]
    },
    {
     "cell_type": "code",
     "collapsed": false,
     "input": [
      "xs = np.array([[np.random.randint(i-10, i), np.random.randint(i-10, i)] for i in [10, 20] for _ in range(100)])\n",
      "y = [i for i in [1, 2] for _ in range(100)]\n",
      "print xs.shape, y"
     ],
     "language": "python",
     "metadata": {},
     "outputs": [
      {
       "output_type": "stream",
       "stream": "stdout",
       "text": [
        "(200, 2) [1, 1, 1, 1, 1, 1, 1, 1, 1, 1, 1, 1, 1, 1, 1, 1, 1, 1, 1, 1, 1, 1, 1, 1, 1, 1, 1, 1, 1, 1, 1, 1, 1, 1, 1, 1, 1, 1, 1, 1, 1, 1, 1, 1, 1, 1, 1, 1, 1, 1, 1, 1, 1, 1, 1, 1, 1, 1, 1, 1, 1, 1, 1, 1, 1, 1, 1, 1, 1, 1, 1, 1, 1, 1, 1, 1, 1, 1, 1, 1, 1, 1, 1, 1, 1, 1, 1, 1, 1, 1, 1, 1, 1, 1, 1, 1, 1, 1, 1, 1, 2, 2, 2, 2, 2, 2, 2, 2, 2, 2, 2, 2, 2, 2, 2, 2, 2, 2, 2, 2, 2, 2, 2, 2, 2, 2, 2, 2, 2, 2, 2, 2, 2, 2, 2, 2, 2, 2, 2, 2, 2, 2, 2, 2, 2, 2, 2, 2, 2, 2, 2, 2, 2, 2, 2, 2, 2, 2, 2, 2, 2, 2, 2, 2, 2, 2, 2, 2, 2, 2, 2, 2, 2, 2, 2, 2, 2, 2, 2, 2, 2, 2, 2, 2, 2, 2, 2, 2, 2, 2, 2, 2, 2, 2, 2, 2, 2, 2, 2, 2]\n"
       ]
      }
     ],
     "prompt_number": 175
    },
    {
     "cell_type": "markdown",
     "metadata": {},
     "source": [
      "Entrenamos ..."
     ]
    },
    {
     "cell_type": "code",
     "collapsed": false,
     "input": [
      "sv = SVC(kernel='rbf') #kernel='rbf'"
     ],
     "language": "python",
     "metadata": {},
     "outputs": [],
     "prompt_number": 176
    },
    {
     "cell_type": "code",
     "collapsed": false,
     "input": [
      "sv.fit(xs, y)"
     ],
     "language": "python",
     "metadata": {},
     "outputs": [
      {
       "metadata": {},
       "output_type": "pyout",
       "prompt_number": 178,
       "text": [
        "SVC(C=1.0, cache_size=200, class_weight=None, coef0=0.0, degree=3, gamma=0.0,\n",
        "  kernel='rbf', max_iter=-1, probability=False, shrinking=True, tol=0.001,\n",
        "  verbose=False)"
       ]
      }
     ],
     "prompt_number": 178
    },
    {
     "cell_type": "markdown",
     "metadata": {},
     "source": [
      "Y consultamos la ubicaci\u00f3n de un nuevo individuo .."
     ]
    },
    {
     "cell_type": "code",
     "collapsed": false,
     "input": [
      "sv.predict([17,5])"
     ],
     "language": "python",
     "metadata": {},
     "outputs": [
      {
       "metadata": {},
       "output_type": "pyout",
       "prompt_number": 318,
       "text": [
        "array([1])"
       ]
      }
     ],
     "prompt_number": 318
    },
    {
     "cell_type": "markdown",
     "metadata": {},
     "source": [
      "Obtenemos la funci\u00f3n de decisi\u00f3n para observar la clasificaci\u00f3n obtenida"
     ]
    },
    {
     "cell_type": "code",
     "collapsed": false,
     "input": [
      "XX_svm, YY_svm = np.mgrid[0:20:1000j, 0:20:1000j]\n",
      "Z_svm = sv.decision_function(np.c_[XX.ravel(), YY.ravel()])\n",
      "Z_svm = Z_svm.reshape(XX.shape)\n",
      "print Z_svm"
     ],
     "language": "python",
     "metadata": {},
     "outputs": [
      {
       "output_type": "stream",
       "stream": "stdout",
       "text": [
        "[[-0.99955593 -1.0040226  -1.00825117 ..., -0.00471502 -0.00471502\n",
        "  -0.00471502]\n",
        " [-1.00194799 -1.00645966 -1.01073334 ..., -0.00471502 -0.00471502\n",
        "  -0.00471502]\n",
        " [-1.00403289 -1.00858915 -1.01290763 ..., -0.00471502 -0.00471502\n",
        "  -0.00471502]\n",
        " ..., \n",
        " [-0.00471502 -0.00471502 -0.00471502 ...,  0.07535844  0.07357211\n",
        "   0.07180347]\n",
        " [-0.00471502 -0.00471502 -0.00471502 ...,  0.07236906  0.0706454\n",
        "   0.0689391 ]\n",
        " [-0.00471502 -0.00471502 -0.00471502 ...,  0.06946394  0.0678013\n",
        "   0.06615568]]\n"
       ]
      }
     ],
     "prompt_number": 321
    },
    {
     "cell_type": "code",
     "collapsed": false,
     "input": [
      "plt.plot(xs[:100, 0],xs[:100, 1],'ro')\n",
      "plt.plot(xs[100:, 0],xs[100:, 1],'go')\n",
      "\n",
      "plt.contour(XX_svm, YY_svm, Z_svm, colors=['k', 'k', 'k'], linestyles=['--', '-', '--'], levels=[-.5, 0, .5])\n",
      "plt.pcolormesh(XX_svm, YY_svm, Z_svm > 0,  cmap=plt.cm.Paired)\n",
      "plt.xlim(0, 20)\n",
      "plt.ylim(0, 20)"
     ],
     "language": "python",
     "metadata": {},
     "outputs": [
      {
       "metadata": {},
       "output_type": "pyout",
       "prompt_number": 317,
       "text": [
        "(0, 20)"
       ]
      },
      {
       "metadata": {},
       "output_type": "display_data",
       "png": "[encoded data removed]",
       "text": [
        "<matplotlib.figure.Figure at 0xc24de90>"
       ]
      }
     ],
     "prompt_number": 317
    },
    {
     "cell_type": "markdown",
     "metadata": {},
     "source": [
      "Ahora cambie el tipo de kernel de la SVM y vuelva a graficar, que cambio?"
     ]
    },
    {
     "cell_type": "heading",
     "level": 4,
     "metadata": {},
     "source": [
      "K-neighbors"
     ]
    },
    {
     "cell_type": "code",
     "collapsed": false,
     "input": [
      "from sklearn.neighbors import KNeighborsClassifier, NearestCentroid"
     ],
     "language": "python",
     "metadata": {},
     "outputs": [],
     "prompt_number": 233
    },
    {
     "cell_type": "code",
     "collapsed": false,
     "input": [
      "kn = KNeighborsClassifier(n_neighbors=6, weights='uniform')"
     ],
     "language": "python",
     "metadata": {},
     "outputs": [],
     "prompt_number": 269
    },
    {
     "cell_type": "code",
     "collapsed": false,
     "input": [
      "kn.fit(xs, y)"
     ],
     "language": "python",
     "metadata": {},
     "outputs": [
      {
       "metadata": {},
       "output_type": "pyout",
       "prompt_number": 270,
       "text": [
        "KNeighborsClassifier(algorithm='auto', leaf_size=30, n_neighbors=6, p=2,\n",
        "           warn_on_equidistant=True, weights='uniform')"
       ]
      }
     ],
     "prompt_number": 270
    },
    {
     "cell_type": "code",
     "collapsed": false,
     "input": [
      "XX, YY = np.mgrid[0:20:1000j, 0:20:1000j]\n",
      "Z = kn.predict(np.c_[XX.ravel(), YY.ravel()])\n",
      "Z = Z.reshape(XX.shape)"
     ],
     "language": "python",
     "metadata": {},
     "outputs": [
      {
       "output_type": "stream",
       "stream": "stderr",
       "text": [
        "/usr/lib/python2.7/site-packages/sklearn/neighbors/classification.py:131: NeighborsWarning: kneighbors: neighbor k+1 and neighbor k have the same distance: results will be dependent on data order.\n",
        "  neigh_dist, neigh_ind = self.kneighbors(X)\n"
       ]
      }
     ],
     "prompt_number": 271
    },
    {
     "cell_type": "code",
     "collapsed": false,
     "input": [
      "plt.plot(xs[:100, 0],xs[:100, 1],'ro')\n",
      "plt.plot(xs[100:, 0],xs[100:, 1],'go')\n",
      "plt.pcolormesh(XX_centroid, YY_centroid, Z_centroid,  cmap=plt.cm.Paired)\n",
      "plt.xlim(0, 20)\n",
      "plt.ylim(0, 20)\n"
     ],
     "language": "python",
     "metadata": {},
     "outputs": [
      {
       "metadata": {},
       "output_type": "pyout",
       "prompt_number": 272,
       "text": [
        "(0, 20)"
       ]
      },
      {
       "metadata": {},
       "output_type": "display_data",
       "png": "[encoded data removed]",
       "text": [
        "<matplotlib.figure.Figure at 0xb8432d0>"
       ]
      }
     ],
     "prompt_number": 272
    },
    {
     "cell_type": "heading",
     "level": 3,
     "metadata": {},
     "source": [
      "Clustering"
     ]
    },
    {
     "cell_type": "heading",
     "level": 4,
     "metadata": {},
     "source": [
      "K-Means"
     ]
    },
    {
     "cell_type": "code",
     "collapsed": false,
     "input": [
      "from sklearn.cluster import KMeans, MeanShift, estimate_bandwidth\n",
      "from sklearn.datasets.samples_generator import make_blobs"
     ],
     "language": "python",
     "metadata": {},
     "outputs": [],
     "prompt_number": 364
    },
    {
     "cell_type": "code",
     "collapsed": false,
     "input": [
      "km = KMeans(n_clusters=20, n_jobs=2) # Cuantas clases queremos? cambiar n_clusters"
     ],
     "language": "python",
     "metadata": {},
     "outputs": [],
     "prompt_number": 306
    },
    {
     "cell_type": "code",
     "collapsed": false,
     "input": [
      "km.fit(xs, y)"
     ],
     "language": "python",
     "metadata": {},
     "outputs": [
      {
       "metadata": {},
       "output_type": "pyout",
       "prompt_number": 307,
       "text": [
        "KMeans(copy_x=True, init='k-means++', k=None, max_iter=300, n_clusters=20,\n",
        "    n_init=10, n_jobs=2, precompute_distances=True, random_state=None,\n",
        "    tol=0.0001, verbose=0)"
       ]
      }
     ],
     "prompt_number": 307
    },
    {
     "cell_type": "code",
     "collapsed": false,
     "input": [
      "XX_km, YY_km = np.mgrid[0:20:1000j, 0:20:1000j]\n",
      "Z_km = km.predict(np.c_[XX.ravel(), YY.ravel()])\n",
      "Z_km = Z_km.reshape(XX.shape)\n",
      "print Z_km"
     ],
     "language": "python",
     "metadata": {},
     "outputs": [
      {
       "output_type": "stream",
       "stream": "stdout",
       "text": [
        "[[11 11 11 ...,  3  3  3]\n",
        " [11 11 11 ...,  3  3  3]\n",
        " [11 11 11 ...,  3  3  3]\n",
        " ..., \n",
        " [ 7  7  7 ...,  8  8  8]\n",
        " [ 7  7  7 ...,  8  8  8]\n",
        " [ 7  7  7 ...,  8  8  8]]\n"
       ]
      }
     ],
     "prompt_number": 320
    },
    {
     "cell_type": "code",
     "collapsed": false,
     "input": [
      "plt.plot(xs[:100, 0],xs[:100, 1],'ro')\n",
      "plt.plot(xs[100:, 0],xs[100:, 1],'go')\n",
      "plt.pcolormesh(XX_km, YY_km, Z_km,  cmap=plt.cm.Paired)\n",
      "plt.xlim(0, 20)\n",
      "plt.ylim(0, 20)"
     ],
     "language": "python",
     "metadata": {},
     "outputs": [
      {
       "metadata": {},
       "output_type": "pyout",
       "prompt_number": 309,
       "text": [
        "(0, 20)"
       ]
      },
      {
       "metadata": {},
       "output_type": "display_data",
       "png": "[encoded data removed]",
       "text": [
        "<matplotlib.figure.Figure at 0xc244990>"
       ]
      }
     ],
     "prompt_number": 309
    },
    {
     "cell_type": "heading",
     "level": 4,
     "metadata": {},
     "source": [
      "MeanShift"
     ]
    },
    {
     "cell_type": "code",
     "collapsed": false,
     "input": [
      "xs_circle, _ = make_blobs(n_samples=1000, centers=[[3,3], [2,2], [1,1]], cluster_std=0.37)"
     ],
     "language": "python",
     "metadata": {},
     "outputs": [],
     "prompt_number": 409
    },
    {
     "cell_type": "code",
     "collapsed": false,
     "input": [
      "bandwidth = estimate_bandwidth(xs_circle, quantile=0.2, n_samples=1000)\n",
      "ms = MeanShift(bandwidth=bandwidth, bin_seeding=True)"
     ],
     "language": "python",
     "metadata": {},
     "outputs": [],
     "prompt_number": 410
    },
    {
     "cell_type": "code",
     "collapsed": false,
     "input": [
      "ms.fit(xs_circle)"
     ],
     "language": "python",
     "metadata": {},
     "outputs": [
      {
       "metadata": {},
       "output_type": "pyout",
       "prompt_number": 411,
       "text": [
        "MeanShift(bandwidth=0.66415234393325939, bin_seeding=True, cluster_all=True,\n",
        "     seeds=None)"
       ]
      }
     ],
     "prompt_number": 411
    },
    {
     "cell_type": "code",
     "collapsed": false,
     "input": [
      "cluster_centers = ms.cluster_centers_\n",
      "labels = ms.labels_\n",
      "print labels.shape\n",
      "print cluster_centers\n",
      "\n"
     ],
     "language": "python",
     "metadata": {},
     "outputs": [
      {
       "output_type": "stream",
       "stream": "stdout",
       "text": [
        "(1000,)\n",
        "[[ 1.99816121  1.98946155]\n",
        " [ 1.01495956  0.9827316 ]\n",
        " [ 2.97058831  2.95905335]]\n"
       ]
      }
     ],
     "prompt_number": 412
    },
    {
     "cell_type": "code",
     "collapsed": false,
     "input": [
      "colors = ['ro', 'go', 'yo']\n",
      "map(lambda p: plt.plot(p[0][0], p[0][1], colors[p[1]]), zip(xs_circle, labels))\n",
      "map(lambda c: plt.plot(c[0], c[1], 'bo', markeredgecolor='k', markersize=14), cluster_centers)\n",
      "\n",
      "print "
     ],
     "language": "python",
     "metadata": {},
     "outputs": [
      {
       "output_type": "stream",
       "stream": "stdout",
       "text": [
        "\n"
       ]
      },
      {
       "metadata": {},
       "output_type": "display_data",
       "png": "[encoded data removed]",
       "text": [
        "<matplotlib.figure.Figure at 0x32305690>"
       ]
      }
     ],
     "prompt_number": 419
    },
    {
     "cell_type": "code",
     "collapsed": false,
     "input": [],
     "language": "python",
     "metadata": {},
     "outputs": []
    }
   ],
   "metadata": {}
  }
 ]
}